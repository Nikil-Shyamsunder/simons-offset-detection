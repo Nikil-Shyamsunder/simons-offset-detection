{
 "cells": [
  {
   "cell_type": "code",
   "execution_count": 1,
   "id": "d87a267c",
   "metadata": {},
   "outputs": [
    {
     "name": "stderr",
     "output_type": "stream",
     "text": [
      "WARNING:root:Limited tf.compat.v2.summary API due to missing TensorBoard installation.\n",
      "WARNING:root:Limited tf.compat.v2.summary API due to missing TensorBoard installation.\n",
      "WARNING:root:Limited tf.compat.v2.summary API due to missing TensorBoard installation.\n",
      "WARNING:root:Limited tf.summary API due to missing TensorBoard installation.\n"
     ]
    },
    {
     "ename": "ModuleNotFoundError",
     "evalue": "No module named 'tensorflow.keras'",
     "output_type": "error",
     "traceback": [
      "\u001b[0;31m---------------------------------------------------------------------------\u001b[0m",
      "\u001b[0;31mModuleNotFoundError\u001b[0m                       Traceback (most recent call last)",
      "Input \u001b[0;32mIn [1]\u001b[0m, in \u001b[0;36m<cell line: 2>\u001b[0;34m()\u001b[0m\n\u001b[1;32m      1\u001b[0m \u001b[38;5;28;01mimport\u001b[39;00m \u001b[38;5;21;01mtensorflow\u001b[39;00m \u001b[38;5;28;01mas\u001b[39;00m \u001b[38;5;21;01mtf\u001b[39;00m\n\u001b[0;32m----> 2\u001b[0m \u001b[38;5;28;01mfrom\u001b[39;00m \u001b[38;5;21;01mtensorflow\u001b[39;00m\u001b[38;5;21;01m.\u001b[39;00m\u001b[38;5;21;01mkeras\u001b[39;00m\u001b[38;5;21;01m.\u001b[39;00m\u001b[38;5;21;01mdatasets\u001b[39;00m \u001b[38;5;28;01mimport\u001b[39;00m mnist\n\u001b[1;32m      3\u001b[0m \u001b[38;5;28;01mfrom\u001b[39;00m \u001b[38;5;21;01mtensorflow\u001b[39;00m\u001b[38;5;21;01m.\u001b[39;00m\u001b[38;5;21;01mkeras\u001b[39;00m\u001b[38;5;21;01m.\u001b[39;00m\u001b[38;5;21;01mmodels\u001b[39;00m \u001b[38;5;28;01mimport\u001b[39;00m Sequential\n\u001b[1;32m      4\u001b[0m \u001b[38;5;28;01mfrom\u001b[39;00m \u001b[38;5;21;01mtensorflow\u001b[39;00m\u001b[38;5;21;01m.\u001b[39;00m\u001b[38;5;21;01mkeras\u001b[39;00m\u001b[38;5;21;01m.\u001b[39;00m\u001b[38;5;21;01mlayers\u001b[39;00m \u001b[38;5;28;01mimport\u001b[39;00m Dense, Dropout, LSTM\n",
      "\u001b[0;31mModuleNotFoundError\u001b[0m: No module named 'tensorflow.keras'"
     ]
    }
   ],
   "source": [
    "import tensorflow as tf\n",
    "from tensorflow.keras.datasets import mnist\n",
    "from tensorflow.keras.models import Sequential\n",
    "from tensorflow.keras.layers import Dense, Dropout, LSTM\n",
    "from tensorflow.keras.optimizers import Adam\n",
    "from tensorflow.keras.losses import SparseCategoricalCrossentropy\n",
    "import numpy as np\n",
    "import pandas as pd\n",
    "import os\n",
    "from sklearn.preprocessing import MinMaxScaler\n",
    "import matplotlib.pyplot as plt"
   ]
  },
  {
   "cell_type": "code",
   "execution_count": 2,
   "id": "eea8de2a",
   "metadata": {},
   "outputs": [],
   "source": [
    "physical_devices = tf.config.experimental.list_physical_devices('GPU')\n",
    "config = tf.config.experimental.set_memory_growth(physical_devices[0], True)"
   ]
  },
  {
   "cell_type": "code",
   "execution_count": 3,
   "id": "449d7265",
   "metadata": {},
   "outputs": [],
   "source": [
    "X_train = np.genfromtxt('../sliced_data/window-200-step-10/ue/X_train.csv', delimiter=',')\n",
    "y_train = np.genfromtxt('../sliced_data/window-200-step-10/ue/y_train.csv', delimiter=',')\n",
    "X_test = np.genfromtxt('../sliced_data/window-200-step-10/ue/X_test.csv', delimiter=',')\n",
    "y_test = np.genfromtxt('../sliced_data/window-200-step-10/ue/y_test.csv', delimiter=',')\n",
    "X_val = np.genfromtxt('../sliced_data/window-200-step-10/ue/X_val.csv', delimiter=',')\n",
    "y_val = np.genfromtxt('../sliced_data/window-200-step-10/ue/y_val.csv', delimiter=',')\n",
    "\n",
    "scaler = MinMaxScaler()\n",
    "\n",
    "i = 0\n",
    "while i < X_train.shape[0]:\n",
    "    X_train[i] = scaler.fit_transform(X_train[i].reshape(-1, 1)).reshape(200,)\n",
    "    i += 1\n",
    "    \n",
    "i = 0\n",
    "while i < X_test.shape[0]:\n",
    "    X_test[i] = scaler.fit_transform(X_test[i].reshape(-1, 1)).reshape(200,)\n",
    "    i += 1\n",
    "\n",
    "\n",
    "\n",
    "\n",
    "X_train = np.reshape(X_train, (X_train.shape[0], X_train.shape[1], 1))\n",
    "X_test = np.reshape(X_test, (X_test.shape[0], X_test.shape[1], 1)) "
   ]
  },
  {
   "cell_type": "code",
   "execution_count": 4,
   "id": "53722286",
   "metadata": {},
   "outputs": [
    {
     "data": {
      "text/plain": [
       "array([0., 0., 1., ..., 0., 1., 0.])"
      ]
     },
     "execution_count": 4,
     "metadata": {},
     "output_type": "execute_result"
    }
   ],
   "source": [
    "y_train"
   ]
  },
  {
   "cell_type": "code",
   "execution_count": 5,
   "id": "ab91b820",
   "metadata": {},
   "outputs": [
    {
     "name": "stdout",
     "output_type": "stream",
     "text": [
      "Model: \"sequential\"\n",
      "_________________________________________________________________\n",
      " Layer (type)                Output Shape              Param #   \n",
      "=================================================================\n",
      " lstm (LSTM)                 (None, 128)               66560     \n",
      "                                                                 \n",
      " dropout (Dropout)           (None, 128)               0         \n",
      "                                                                 \n",
      " dropout_1 (Dropout)         (None, 128)               0         \n",
      "                                                                 \n",
      " dense (Dense)               (None, 32)                4128      \n",
      "                                                                 \n",
      " dropout_2 (Dropout)         (None, 32)                0         \n",
      "                                                                 \n",
      " dense_1 (Dense)             (None, 2)                 66        \n",
      "                                                                 \n",
      "=================================================================\n",
      "Total params: 70,754\n",
      "Trainable params: 70,754\n",
      "Non-trainable params: 0\n",
      "_________________________________________________________________\n",
      "None\n"
     ]
    }
   ],
   "source": [
    "model = Sequential()\n",
    "model.add(LSTM(128, input_shape=(200, 1), return_sequences=False))\n",
    "model.add(Dropout(0.2))\n",
    "\n",
    "#model.add(LSTM(64, input_shape=(200, 1)))\n",
    "#model.add(Dropout(0.1))\n",
    "\n",
    "#model.add(LSTM(128, input_shape=(40, 1)))\n",
    "#model.add(Dropout(0.1))\n",
    "\n",
    "#model.add(Dense(64, activation='tanh'))\n",
    "#model.add(Dropout(0.1))\n",
    "\n",
    "#model.add(Dense(128, activation='tanh'))\n",
    "model.add(Dropout(0.1))\n",
    "\n",
    "model.add(Dense(32, activation='tanh'))\n",
    "model.add(Dropout(0.1))\n",
    "\n",
    "\n",
    "\n",
    "model.add(Dense(2))\n",
    "print(model.summary())"
   ]
  },
  {
   "cell_type": "code",
   "execution_count": 6,
   "id": "8d004afa",
   "metadata": {},
   "outputs": [],
   "source": [
    "from tensorflow.keras.optimizers import SGD\n",
    "opt = SGD()"
   ]
  },
  {
   "cell_type": "code",
   "execution_count": 7,
   "id": "0e240342",
   "metadata": {},
   "outputs": [],
   "source": [
    "model.compile(loss = SparseCategoricalCrossentropy(from_logits=True), optimizer=opt, metrics=['accuracy'],)"
   ]
  },
  {
   "cell_type": "code",
   "execution_count": 8,
   "id": "eaac0a22",
   "metadata": {},
   "outputs": [
    {
     "name": "stdout",
     "output_type": "stream",
     "text": [
      "Epoch 1/30\n",
      "414/414 [==============================] - 11s 21ms/step - loss: 0.6933 - accuracy: 0.5110 - val_loss: 0.6944 - val_accuracy: 0.4600\n",
      "Epoch 2/30\n",
      "414/414 [==============================] - 8s 19ms/step - loss: 0.6924 - accuracy: 0.5184 - val_loss: 0.6956 - val_accuracy: 0.4636\n",
      "Epoch 3/30\n",
      "414/414 [==============================] - 8s 19ms/step - loss: 0.6923 - accuracy: 0.5089 - val_loss: 0.6964 - val_accuracy: 0.4713\n",
      "Epoch 4/30\n",
      "414/414 [==============================] - 8s 19ms/step - loss: 0.6920 - accuracy: 0.5150 - val_loss: 0.6964 - val_accuracy: 0.4685\n",
      "Epoch 5/30\n",
      "414/414 [==============================] - 8s 19ms/step - loss: 0.6922 - accuracy: 0.5085 - val_loss: 0.6966 - val_accuracy: 0.4709\n",
      "Epoch 6/30\n",
      "414/414 [==============================] - 8s 19ms/step - loss: 0.6922 - accuracy: 0.5114 - val_loss: 0.6966 - val_accuracy: 0.4643\n",
      "Epoch 7/30\n",
      "414/414 [==============================] - 8s 19ms/step - loss: 0.6921 - accuracy: 0.5089 - val_loss: 0.6968 - val_accuracy: 0.4728\n",
      "Epoch 8/30\n",
      "414/414 [==============================] - 8s 19ms/step - loss: 0.6919 - accuracy: 0.5111 - val_loss: 0.6966 - val_accuracy: 0.4728\n",
      "Epoch 9/30\n",
      "414/414 [==============================] - 8s 20ms/step - loss: 0.6919 - accuracy: 0.5102 - val_loss: 0.6963 - val_accuracy: 0.4669\n",
      "Epoch 10/30\n",
      "414/414 [==============================] - 8s 20ms/step - loss: 0.6920 - accuracy: 0.5087 - val_loss: 0.6963 - val_accuracy: 0.4709\n",
      "Epoch 11/30\n",
      "414/414 [==============================] - 8s 19ms/step - loss: 0.6918 - accuracy: 0.5123 - val_loss: 0.6963 - val_accuracy: 0.4682\n",
      "Epoch 12/30\n",
      "414/414 [==============================] - 8s 19ms/step - loss: 0.6917 - accuracy: 0.5133 - val_loss: 0.6969 - val_accuracy: 0.4732\n",
      "Epoch 13/30\n",
      "414/414 [==============================] - 8s 19ms/step - loss: 0.6920 - accuracy: 0.5106 - val_loss: 0.6964 - val_accuracy: 0.4650\n",
      "Epoch 14/30\n",
      "414/414 [==============================] - 8s 19ms/step - loss: 0.6919 - accuracy: 0.5102 - val_loss: 0.6964 - val_accuracy: 0.4631\n",
      "Epoch 15/30\n",
      "414/414 [==============================] - 8s 19ms/step - loss: 0.6919 - accuracy: 0.5090 - val_loss: 0.6967 - val_accuracy: 0.4725\n",
      "Epoch 16/30\n",
      "414/414 [==============================] - 8s 19ms/step - loss: 0.6917 - accuracy: 0.5108 - val_loss: 0.6962 - val_accuracy: 0.4642\n",
      "Epoch 17/30\n",
      "414/414 [==============================] - 8s 20ms/step - loss: 0.6919 - accuracy: 0.5087 - val_loss: 0.6960 - val_accuracy: 0.4689\n",
      "Epoch 18/30\n",
      "414/414 [==============================] - 8s 19ms/step - loss: 0.6917 - accuracy: 0.5092 - val_loss: 0.6960 - val_accuracy: 0.4630\n",
      "Epoch 19/30\n",
      "414/414 [==============================] - 8s 19ms/step - loss: 0.6917 - accuracy: 0.5077 - val_loss: 0.6959 - val_accuracy: 0.4684\n",
      "Epoch 20/30\n",
      "414/414 [==============================] - 8s 19ms/step - loss: 0.6917 - accuracy: 0.5063 - val_loss: 0.6965 - val_accuracy: 0.4670\n",
      "Epoch 21/30\n",
      "414/414 [==============================] - 8s 19ms/step - loss: 0.6917 - accuracy: 0.5111 - val_loss: 0.6959 - val_accuracy: 0.4666\n",
      "Epoch 22/30\n",
      "414/414 [==============================] - 8s 19ms/step - loss: 0.6917 - accuracy: 0.5077 - val_loss: 0.6960 - val_accuracy: 0.4665\n",
      "Epoch 23/30\n",
      "414/414 [==============================] - 8s 19ms/step - loss: 0.6916 - accuracy: 0.5083 - val_loss: 0.6958 - val_accuracy: 0.4690\n",
      "Epoch 24/30\n",
      "414/414 [==============================] - 8s 19ms/step - loss: 0.6914 - accuracy: 0.5096 - val_loss: 0.6957 - val_accuracy: 0.4691\n",
      "Epoch 25/30\n",
      "414/414 [==============================] - 8s 19ms/step - loss: 0.6914 - accuracy: 0.5081 - val_loss: 0.6955 - val_accuracy: 0.4705\n",
      "Epoch 26/30\n",
      "414/414 [==============================] - 8s 19ms/step - loss: 0.6912 - accuracy: 0.5109 - val_loss: 0.6958 - val_accuracy: 0.4740\n",
      "Epoch 27/30\n",
      "414/414 [==============================] - 8s 19ms/step - loss: 0.6911 - accuracy: 0.5123 - val_loss: 0.6958 - val_accuracy: 0.4749\n",
      "Epoch 28/30\n",
      "414/414 [==============================] - 8s 19ms/step - loss: 0.6909 - accuracy: 0.5147 - val_loss: 0.6956 - val_accuracy: 0.4720\n",
      "Epoch 29/30\n",
      "414/414 [==============================] - 8s 19ms/step - loss: 0.6910 - accuracy: 0.5102 - val_loss: 0.6957 - val_accuracy: 0.4693\n",
      "Epoch 30/30\n",
      "414/414 [==============================] - 8s 19ms/step - loss: 0.6907 - accuracy: 0.5090 - val_loss: 0.6953 - val_accuracy: 0.4663\n"
     ]
    }
   ],
   "source": [
    "history = model.fit(X_train, y_train, validation_data=(X_test, y_test), batch_size=64, epochs=30)"
   ]
  },
  {
   "cell_type": "code",
   "execution_count": null,
   "id": "23ea549d",
   "metadata": {},
   "outputs": [],
   "source": [
    "plt.plot(history.history['loss'])\n",
    "plt.plot(history.history['val_loss'])\n",
    "plt.title('model loss')\n",
    "plt.ylabel('loss')\n",
    "plt.xlabel('epoch')\n",
    "plt.legend(['train', 'test'], loc='upper left')\n",
    "plt.show()"
   ]
  },
  {
   "cell_type": "code",
   "execution_count": null,
   "id": "3507999c",
   "metadata": {},
   "outputs": [],
   "source": [
    "plt.plot(history.history['accuracy'])\n",
    "plt.plot(history.history['val_accuracy'])\n",
    "plt.title('model accuracy')\n",
    "plt.ylabel('accuracy')\n",
    "plt.xlabel('epoch')\n",
    "plt.legend(['train', 'test'], loc='upper left')\n",
    "plt.show()"
   ]
  },
  {
   "cell_type": "markdown",
   "id": "a52e31a2",
   "metadata": {},
   "source": []
  }
 ],
 "metadata": {
  "kernelspec": {
   "display_name": "Python 3 (ipykernel)",
   "language": "python",
   "name": "python3"
  },
  "language_info": {
   "codemirror_mode": {
    "name": "ipython",
    "version": 3
   },
   "file_extension": ".py",
   "mimetype": "text/x-python",
   "name": "python",
   "nbconvert_exporter": "python",
   "pygments_lexer": "ipython3",
   "version": "3.8.13"
  }
 },
 "nbformat": 4,
 "nbformat_minor": 5
}

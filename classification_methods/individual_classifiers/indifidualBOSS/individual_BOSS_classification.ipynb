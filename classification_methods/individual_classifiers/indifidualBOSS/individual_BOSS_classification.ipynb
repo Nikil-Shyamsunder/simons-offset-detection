{
 "cells": [
  {
   "cell_type": "code",
   "execution_count": 1,
   "id": "4cede7ef",
   "metadata": {},
   "outputs": [],
   "source": [
    "import numpy as np\n",
    "from scipy.spatial import distance\n",
    "from sklearn.model_selection import train_test_split\n",
    "from sklearn.neighbors import KNeighborsClassifier\n",
    "from sklearn.model_selection import GridSearchCV\n",
    "from sklearn.metrics import classification_report\n",
    "import pandas as pd\n",
    "import matplotlib.pyplot as plt\n",
    "from sklearn.utils import resample\n",
    "import os\n",
    "import time"
   ]
  },
  {
   "cell_type": "code",
   "execution_count": 2,
   "id": "a6b20113",
   "metadata": {},
   "outputs": [],
   "source": [
    "meta = pd.read_csv('synthetic-meta.txt', sep=',', header=None)\n",
    "meta.columns = ['station', 'direction', 'date']\n",
    "z_meta = meta[meta.direction == 'Z']"
   ]
  },
  {
   "cell_type": "code",
   "execution_count": 3,
   "id": "b5fce623",
   "metadata": {},
   "outputs": [],
   "source": [
    "def process_csv(station):\n",
    "    df = pd.read_csv('../Artificial_data/DOGEx_v1/csv/' + station, header=None)\n",
    "\n",
    "    df.columns = ['date', 'un', 'ue', 'uz', 'sn', 'se', 'sz']\n",
    "    df.drop(['sn', 'se', 'sz'], axis=1, inplace=True)\n",
    "    df = df[['date','uz']]\n",
    "\n",
    "    offset_dates = z_meta[z_meta.station==station[0:4]]['date']\n",
    "    \n",
    "    return df, offset_dates"
   ]
  },
  {
   "cell_type": "code",
   "execution_count": 4,
   "id": "4083e458",
   "metadata": {},
   "outputs": [],
   "source": [
    "interval_size = 40\n",
    "offset = 10\n",
    "\n",
    "num_files = 0\n",
    "tot_ranges = 0\n",
    "\n",
    "csv_list = []\n",
    "ranges_per_csv = []\n",
    "\n",
    "for file in os.listdir('../Artificial_data/DOGEx_v1/csv/'):\n",
    "    if file[0] == '.':\n",
    "        continue \n",
    "    \n",
    "    num_ranges = (sum(1 for line in open('../Artificial_data/DOGEx_v1/csv/' + file)) - interval_size) // offset\n",
    "        \n",
    "    csv_list.append(file)\n",
    "    ranges_per_csv.append(num_ranges)\n",
    "    \n",
    "    tot_ranges += num_ranges\n",
    "    num_files +=  1"
   ]
  },
  {
   "cell_type": "code",
   "execution_count": 5,
   "id": "fde50d1f",
   "metadata": {},
   "outputs": [],
   "source": [
    "ranges = np.empty((tot_ranges, 3), dtype=np.ndarray)"
   ]
  },
  {
   "cell_type": "code",
   "execution_count": 6,
   "id": "0e17ad77",
   "metadata": {},
   "outputs": [],
   "source": [
    "range_row = 0\n",
    "csv_idx = 0\n",
    "while range_row < tot_ranges:\n",
    "    df, offset_dates = process_csv(csv_list[csv_idx])    \n",
    "    i = 0\n",
    "    while i < ranges_per_csv[csv_idx]:\n",
    "        arr = np.array(df.iloc[i * offset:i * offset + interval_size].T)\n",
    "\n",
    "        for date in arr[0]:\n",
    "            if date in offset_dates.values:\n",
    "                ranges[range_row] = (arr[0], arr[1], 1)\n",
    "                break\n",
    "            else:\n",
    "                ranges[range_row] = (arr[0], arr[1], 0)\n",
    "\n",
    "        i = i + 1  \n",
    "        range_row = range_row + 1   \n",
    "    \n",
    "    csv_idx += 1"
   ]
  },
  {
   "cell_type": "code",
   "execution_count": 7,
   "id": "36cb0011",
   "metadata": {},
   "outputs": [
    {
     "data": {
      "text/html": [
       "<div>\n",
       "<style scoped>\n",
       "    .dataframe tbody tr th:only-of-type {\n",
       "        vertical-align: middle;\n",
       "    }\n",
       "\n",
       "    .dataframe tbody tr th {\n",
       "        vertical-align: top;\n",
       "    }\n",
       "\n",
       "    .dataframe thead th {\n",
       "        text-align: right;\n",
       "    }\n",
       "</style>\n",
       "<table border=\"1\" class=\"dataframe\">\n",
       "  <thead>\n",
       "    <tr style=\"text-align: right;\">\n",
       "      <th></th>\n",
       "      <th>0</th>\n",
       "      <th>1</th>\n",
       "      <th>2</th>\n",
       "    </tr>\n",
       "  </thead>\n",
       "  <tbody>\n",
       "    <tr>\n",
       "      <th>0</th>\n",
       "      <td>[1992.1834, 1992.2218, 1992.2464, 1992.2847, 1...</td>\n",
       "      <td>[0.0014494, -0.02434133, -0.02490843, -0.02406...</td>\n",
       "      <td>0</td>\n",
       "    </tr>\n",
       "    <tr>\n",
       "      <th>1</th>\n",
       "      <td>[1992.3395, 1992.3422, 1992.345, 1992.3614, 19...</td>\n",
       "      <td>[-0.00336805, -0.02174591, -0.00028298, -0.018...</td>\n",
       "      <td>0</td>\n",
       "    </tr>\n",
       "    <tr>\n",
       "      <th>2</th>\n",
       "      <td>[1992.4326, 1992.4353, 1992.4381, 1992.4408, 1...</td>\n",
       "      <td>[0.00067229, -0.01755925, -0.03052116, 0.03938...</td>\n",
       "      <td>0</td>\n",
       "    </tr>\n",
       "    <tr>\n",
       "      <th>3</th>\n",
       "      <td>[1992.4764, 1992.4791, 1992.4819, 1992.4846, 1...</td>\n",
       "      <td>[-0.03043266, -0.0040784, -0.01701879, -0.0095...</td>\n",
       "      <td>0</td>\n",
       "    </tr>\n",
       "    <tr>\n",
       "      <th>4</th>\n",
       "      <td>[1992.5065, 1992.5092, 1992.512, 1992.5147, 19...</td>\n",
       "      <td>[0.00880199, 0.02723057, 0.02394497, 0.0008241...</td>\n",
       "      <td>0</td>\n",
       "    </tr>\n",
       "  </tbody>\n",
       "</table>\n",
       "</div>"
      ],
      "text/plain": [
       "                                                   0  \\\n",
       "0  [1992.1834, 1992.2218, 1992.2464, 1992.2847, 1...   \n",
       "1  [1992.3395, 1992.3422, 1992.345, 1992.3614, 19...   \n",
       "2  [1992.4326, 1992.4353, 1992.4381, 1992.4408, 1...   \n",
       "3  [1992.4764, 1992.4791, 1992.4819, 1992.4846, 1...   \n",
       "4  [1992.5065, 1992.5092, 1992.512, 1992.5147, 19...   \n",
       "\n",
       "                                                   1  2  \n",
       "0  [0.0014494, -0.02434133, -0.02490843, -0.02406...  0  \n",
       "1  [-0.00336805, -0.02174591, -0.00028298, -0.018...  0  \n",
       "2  [0.00067229, -0.01755925, -0.03052116, 0.03938...  0  \n",
       "3  [-0.03043266, -0.0040784, -0.01701879, -0.0095...  0  \n",
       "4  [0.00880199, 0.02723057, 0.02394497, 0.0008241...  0  "
      ]
     },
     "execution_count": 7,
     "metadata": {},
     "output_type": "execute_result"
    }
   ],
   "source": [
    "data = pd.DataFrame(ranges)\n",
    "data.head()"
   ]
  },
  {
   "cell_type": "code",
   "execution_count": 8,
   "id": "268e3265",
   "metadata": {},
   "outputs": [],
   "source": [
    "data.columns = ['dates', 'uz', 'label']\n",
    "regular = data[data.label == 0]\n",
    "offsets  = data[data.label == 1]"
   ]
  },
  {
   "cell_type": "code",
   "execution_count": 9,
   "id": "343e903b",
   "metadata": {},
   "outputs": [],
   "source": [
    "offsets_upsampled = resample(offsets, replace=True, n_samples=len(regular), random_state=42)\n",
    "data_upsampled = pd.concat([regular, offsets_upsampled])"
   ]
  },
  {
   "cell_type": "code",
   "execution_count": 10,
   "id": "8b373943",
   "metadata": {},
   "outputs": [],
   "source": [
    "data_upsampled.label.value_counts()\n",
    "\n",
    "X = X = np.stack(np.array(data_upsampled['uz']))\n",
    "y = np.stack(np.array(data_upsampled['label']))"
   ]
  },
  {
   "cell_type": "code",
   "execution_count": 11,
   "id": "41d2d5ba",
   "metadata": {},
   "outputs": [],
   "source": [
    "X_train, X_test, y_train, y_test = train_test_split(X, y, test_size=0.33, random_state=42)"
   ]
  },
  {
   "cell_type": "code",
   "execution_count": 12,
   "id": "eb9ab790",
   "metadata": {},
   "outputs": [
    {
     "data": {
      "text/plain": [
       "(16871,)"
      ]
     },
     "execution_count": 12,
     "metadata": {},
     "output_type": "execute_result"
    }
   ],
   "source": [
    "X_train[0:200, :]\n",
    "y_test.shape"
   ]
  },
  {
   "cell_type": "code",
   "execution_count": 13,
   "id": "b49ebade",
   "metadata": {},
   "outputs": [],
   "source": [
    "from sktime.classification.dictionary_based import IndividualBOSS\n",
    "from sktime.datasets import load_unit_test"
   ]
  },
  {
   "cell_type": "code",
   "execution_count": null,
   "id": "e8e4935a",
   "metadata": {},
   "outputs": [],
   "source": [
    "start = time.time()\n",
    "\n",
    "y_pred = clf.predict(X_test)\n",
    "\n",
    "end = time.time()\n",
    "print(end - start)"
   ]
  },
  {
   "cell_type": "code",
   "execution_count": null,
   "id": "02f2de49",
   "metadata": {},
   "outputs": [],
   "source": [
    "from sklearn.metrics import accuracy_score\n",
    "\n",
    "accuracy_score(y_test, y_pred)"
   ]
  },
  {
   "cell_type": "code",
   "execution_count": null,
   "id": "5dd86343",
   "metadata": {},
   "outputs": [],
   "source": [
    "print(classification_report(y_test, y_pred))"
   ]
  },
  {
   "cell_type": "code",
   "execution_count": null,
   "id": "9005bab6",
   "metadata": {},
   "outputs": [],
   "source": [
    "from sklearn.metrics import plot_confusion_matrix, confusion_matrix\n",
    "cf_matrix = confusion_matrix(y_test, y_pred)"
   ]
  },
  {
   "cell_type": "code",
   "execution_count": null,
   "id": "32deff3c",
   "metadata": {},
   "outputs": [],
   "source": [
    "import seaborn as sns\n",
    "\n",
    "ax = sns.heatmap(cf_matrix, annot=True, cmap='Blues')\n",
    "\n",
    "ax.set_title('Seaborn Confusion Matrix with labels\\n\\n');\n",
    "ax.set_xlabel('\\nPredicted Values')\n",
    "ax.set_ylabel('Actual Values ');\n",
    "\n",
    "## Ticket labels - List must be in alphabetical order\n",
    "ax.xaxis.set_ticklabels(['False','True'])\n",
    "ax.yaxis.set_ticklabels(['False','True'])\n",
    "\n",
    "## Display the visualization of the Confusion Matrix.\n",
    "plt.show()"
   ]
  },
  {
   "cell_type": "code",
   "execution_count": null,
   "id": "5a25e7f0",
   "metadata": {},
   "outputs": [],
   "source": []
  }
 ],
 "metadata": {
  "kernelspec": {
   "display_name": "Python [conda env:root] *",
   "language": "python",
   "name": "conda-root-py"
  },
  "language_info": {
   "codemirror_mode": {
    "name": "ipython",
    "version": 3
   },
   "file_extension": ".py",
   "mimetype": "text/x-python",
   "name": "python",
   "nbconvert_exporter": "python",
   "pygments_lexer": "ipython3",
   "version": "3.8.13"
  }
 },
 "nbformat": 4,
 "nbformat_minor": 5
}

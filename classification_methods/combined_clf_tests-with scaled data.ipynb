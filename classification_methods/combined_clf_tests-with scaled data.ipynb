{
 "cells": [
  {
   "cell_type": "code",
   "execution_count": 1,
   "id": "368c301d",
   "metadata": {},
   "outputs": [],
   "source": [
    "import numpy as np\n",
    "import time\n",
    "import matplotlib.pyplot as plt\n",
    "from sklearn.preprocessing import MinMaxScaler, StandardScaler\n",
    "from sklearn.metrics import accuracy_score, confusion_matrix, classification_report"
   ]
  },
  {
   "cell_type": "markdown",
   "id": "cc41143e",
   "metadata": {},
   "source": [
    "# Import data"
   ]
  },
  {
   "cell_type": "code",
   "execution_count": 2,
   "id": "ec97fd54",
   "metadata": {},
   "outputs": [],
   "source": [
    "X_train = np.genfromtxt('sliced_data/window-200-step-10/combined/X_train.csv', delimiter=',')\n",
    "y_train = np.genfromtxt('sliced_data/window-200-step-10/combined/y_train.csv', delimiter=',')\n",
    "X_test = np.genfromtxt('sliced_data/window-200-step-10/combined/X_test.csv', delimiter=',')\n",
    "y_test = np.genfromtxt('sliced_data/window-200-step-10/combined/y_test.csv', delimiter=',')\n",
    "X_val = np.genfromtxt('sliced_data/window-200-step-10/combined/X_val.csv', delimiter=',')\n",
    "y_val = np.genfromtxt('sliced_data/window-200-step-10/combined/y_val.csv', delimiter=',')"
   ]
  },
  {
   "cell_type": "markdown",
   "id": "b3f38314",
   "metadata": {},
   "source": [
    "# Scale Data"
   ]
  },
  {
   "cell_type": "markdown",
   "id": "738ee001",
   "metadata": {},
   "source": [
    "## Min Max Scaler"
   ]
  },
  {
   "cell_type": "code",
   "execution_count": 3,
   "id": "a75ebc29",
   "metadata": {},
   "outputs": [],
   "source": [
    "scaler = MinMaxScaler()\n",
    "\n",
    "i = 0\n",
    "while i < X_train.shape[0]:\n",
    "    X_train[i] = scaler.fit_transform(X_train[i].reshape(-1, 1)).reshape(200, )\n",
    "    i += 1\n",
    "\n",
    "i = 0\n",
    "while i < X_test.shape[0]:\n",
    "    X_test[i] = scaler.fit_transform(X_test[i].reshape(-1, 1)).reshape(200, )\n",
    "    i += 1\n",
    "    \n",
    "i = 0\n",
    "while i < X_val.shape[0]:\n",
    "    X_val[i] = scaler.fit_transform(X_val[i].reshape(-1, 1)).reshape(200, )\n",
    "    i += 1"
   ]
  },
  {
   "cell_type": "markdown",
   "id": "9a13dc83",
   "metadata": {},
   "source": [
    "# Standard Scaler"
   ]
  },
  {
   "cell_type": "code",
   "execution_count": null,
   "id": "fa0ab24a",
   "metadata": {},
   "outputs": [],
   "source": [
    "scaler = StandardScaler()\n",
    "\n",
    "i = 0\n",
    "while i < X_train.shape[0]:\n",
    "    X_train[i] = scaler.fit_transform(X_train[i].reshape(-1, 1)).reshape(40, )\n",
    "    i += 1\n",
    "    \n",
    "i = 0\n",
    "while i < X_test.shape[0]:\n",
    "    X_test[i] = scaler.fit_transform(X_test[i].reshape(-1, 1)).reshape(40, )\n",
    "    i += 1"
   ]
  },
  {
   "cell_type": "markdown",
   "id": "c8be781c",
   "metadata": {},
   "source": [
    "# Time Series Forest clf"
   ]
  },
  {
   "cell_type": "code",
   "execution_count": null,
   "id": "8b3a5091",
   "metadata": {},
   "outputs": [],
   "source": [
    "from sktime.classification.interval_based import TimeSeriesForestClassifier\n",
    "from sklearn.metrics import accuracy_score\n",
    "clf = TimeSeriesForestClassifier()\n",
    "clf.fit(X_train, y_train)\n",
    "y_pred = clf.predict(X_test)\n",
    "accuracy_score(y_test, y_pred)"
   ]
  },
  {
   "cell_type": "code",
   "execution_count": null,
   "id": "d43b11d0",
   "metadata": {},
   "outputs": [],
   "source": [
    "y_pred = clf.predict(X_test)\n",
    "print('test accuracy:', accuracy_score(y_test, y_pred))\n",
    "\n",
    "val_pred = clf.predict(X_val)\n",
    "print('val accuracy:', accuracy_score(y_val, val_pred))\n",
    "\n",
    "print(classification_report(y_test, y_pred))"
   ]
  },
  {
   "cell_type": "code",
   "execution_count": null,
   "id": "d21d04e2",
   "metadata": {},
   "outputs": [],
   "source": [
    "np.unique(y_pred, return_counts=True)"
   ]
  },
  {
   "cell_type": "code",
   "execution_count": 19,
   "id": "b1ee6893",
   "metadata": {},
   "outputs": [
    {
     "data": {
      "text/plain": [
       "(79758, 200)"
      ]
     },
     "execution_count": 19,
     "metadata": {},
     "output_type": "execute_result"
    }
   ],
   "source": [
    "X_train.shape"
   ]
  },
  {
   "cell_type": "code",
   "execution_count": 16,
   "id": "4a28fbc6",
   "metadata": {},
   "outputs": [
    {
     "data": {
      "text/plain": [
       "(10, 200)"
      ]
     },
     "execution_count": 16,
     "metadata": {},
     "output_type": "execute_result"
    }
   ],
   "source": [
    "X_train[0:10].shape"
   ]
  },
  {
   "cell_type": "code",
   "execution_count": 18,
   "id": "1b647eb7",
   "metadata": {},
   "outputs": [
    {
     "data": {
      "text/plain": [
       "array([1., 0., 0., 0., 0., 0., 1., 0., 1., 1.])"
      ]
     },
     "execution_count": 18,
     "metadata": {},
     "output_type": "execute_result"
    }
   ],
   "source": [
    "y_train[0:10]"
   ]
  },
  {
   "cell_type": "markdown",
   "id": "447007fe",
   "metadata": {},
   "source": [
    "# Rocket clf"
   ]
  },
  {
   "cell_type": "code",
   "execution_count": 12,
   "id": "7c036b8e",
   "metadata": {},
   "outputs": [
    {
     "name": "stdout",
     "output_type": "stream",
     "text": [
      "83827.12440800667\n"
     ]
    }
   ],
   "source": [
    "from sktime.classification.kernel_based import RocketClassifier\n",
    "start = time.time()\n",
    "clf = RocketClassifier()\n",
    "clf.fit(X_train, y_train)\n",
    "end = time.time()\n",
    "print(end - start)"
   ]
  },
  {
   "cell_type": "code",
   "execution_count": 13,
   "id": "7d45a159",
   "metadata": {},
   "outputs": [
    {
     "name": "stdout",
     "output_type": "stream",
     "text": [
      "test accuracy: 0.9803679142782211\n",
      "11729.896537065506\n",
      "val accuracy: 0.8012748103921252\n",
      "              precision    recall  f1-score   support\n",
      "\n",
      "         0.0       0.96      1.00      0.98     26691\n",
      "         1.0       1.00      0.96      0.98     26691\n",
      "\n",
      "    accuracy                           0.98     53382\n",
      "   macro avg       0.98      0.98      0.98     53382\n",
      "weighted avg       0.98      0.98      0.98     53382\n",
      "\n"
     ]
    }
   ],
   "source": [
    "start = time.time()\n",
    "y_pred = clf.predict(X_test)\n",
    "print('test accuracy:', accuracy_score(y_test, y_pred))\n",
    "end = time.time()\n",
    "print(end - start)\n",
    "\n",
    "val_pred = clf.predict(X_val)\n",
    "print('val accuracy:', accuracy_score(y_val, val_pred))\n",
    "\n",
    "print(classification_report(y_test, y_pred))"
   ]
  },
  {
   "cell_type": "code",
   "execution_count": 17,
   "id": "67447e11",
   "metadata": {},
   "outputs": [
    {
     "data": {
      "text/plain": [
       "(53382, 200)"
      ]
     },
     "execution_count": 17,
     "metadata": {},
     "output_type": "execute_result"
    }
   ],
   "source": [
    "X_test.shape"
   ]
  },
  {
   "cell_type": "code",
   "execution_count": 14,
   "id": "c5b195e2",
   "metadata": {},
   "outputs": [
    {
     "data": {
      "text/plain": [
       "array([[26673,    18],\n",
       "       [ 1030, 25661]])"
      ]
     },
     "execution_count": 14,
     "metadata": {},
     "output_type": "execute_result"
    }
   ],
   "source": [
    "confusion_matrix(y_test, y_pred)"
   ]
  },
  {
   "cell_type": "code",
   "execution_count": 15,
   "id": "a2ada06c",
   "metadata": {},
   "outputs": [
    {
     "name": "stdout",
     "output_type": "stream",
     "text": [
      "              precision    recall  f1-score   support\n",
      "\n",
      "         0.0       0.72      1.00      0.83      6197\n",
      "         1.0       1.00      0.60      0.75      6197\n",
      "\n",
      "    accuracy                           0.80     12394\n",
      "   macro avg       0.86      0.80      0.79     12394\n",
      "weighted avg       0.86      0.80      0.79     12394\n",
      "\n"
     ]
    }
   ],
   "source": [
    "print(classification_report(y_val, val_pred))"
   ]
  },
  {
   "cell_type": "code",
   "execution_count": 16,
   "id": "c823fdb2",
   "metadata": {},
   "outputs": [],
   "source": [
    "import pickle\n",
    "filename = 'r_clf_best.sav' \n",
    "\n",
    "with open(filename, 'wb') as f:\n",
    "    pickle.dump(clf,f)\n"
   ]
  },
  {
   "cell_type": "code",
   "execution_count": 1,
   "id": "66c1ce85",
   "metadata": {},
   "outputs": [
    {
     "ename": "NameError",
     "evalue": "name 'X_test' is not defined",
     "output_type": "error",
     "traceback": [
      "\u001b[0;31m---------------------------------------------------------------------------\u001b[0m",
      "\u001b[0;31mNameError\u001b[0m                                 Traceback (most recent call last)",
      "Input \u001b[0;32mIn [1]\u001b[0m, in \u001b[0;36m<cell line: 1>\u001b[0;34m()\u001b[0m\n\u001b[0;32m----> 1\u001b[0m X_test2 \u001b[38;5;241m=\u001b[39m \u001b[43mX_test\u001b[49m[\u001b[38;5;241m0\u001b[39m:\u001b[38;5;241m2\u001b[39m, :]\n\u001b[1;32m      2\u001b[0m X_test2\u001b[38;5;241m.\u001b[39mshape\n",
      "\u001b[0;31mNameError\u001b[0m: name 'X_test' is not defined"
     ]
    }
   ],
   "source": [
    "X_test2 = X_test[0:2, :]\n",
    "X_test2.shape"
   ]
  },
  {
   "cell_type": "code",
   "execution_count": 2,
   "id": "fe1da024",
   "metadata": {},
   "outputs": [
    {
     "ename": "NameError",
     "evalue": "name 'clf' is not defined",
     "output_type": "error",
     "traceback": [
      "\u001b[0;31m---------------------------------------------------------------------------\u001b[0m",
      "\u001b[0;31mNameError\u001b[0m                                 Traceback (most recent call last)",
      "Input \u001b[0;32mIn [2]\u001b[0m, in \u001b[0;36m<cell line: 1>\u001b[0;34m()\u001b[0m\n\u001b[0;32m----> 1\u001b[0m \u001b[43mclf\u001b[49m\u001b[38;5;241m.\u001b[39mpredict(X_test2)\n",
      "\u001b[0;31mNameError\u001b[0m: name 'clf' is not defined"
     ]
    }
   ],
   "source": [
    "clf.predict(X_test2)"
   ]
  },
  {
   "cell_type": "code",
   "execution_count": null,
   "id": "81790e5e",
   "metadata": {},
   "outputs": [],
   "source": []
  },
  {
   "cell_type": "markdown",
   "id": "f9b8fc45",
   "metadata": {},
   "source": [
    "# Shapelet Based Classifier"
   ]
  },
  {
   "cell_type": "code",
   "execution_count": null,
   "id": "c87845b8",
   "metadata": {},
   "outputs": [],
   "source": [
    "from sktime.classification.shapelet_based import ShapeletTransformClassifier\n",
    "from sktime._contrib.vector_classifiers._rotation_forest import RotationForest\n",
    "from sktime.datasets import load_unit_test\n",
    "\n",
    "\n",
    "clf = ShapeletTransformClassifier(\n",
    "    estimator=RotationForest(n_estimators=3),\n",
    "    n_shapelet_samples=100,\n",
    "    max_shapelets=10,\n",
    "    batch_size=20,\n",
    ")"
   ]
  },
  {
   "cell_type": "code",
   "execution_count": null,
   "id": "c0cbd95b",
   "metadata": {},
   "outputs": [],
   "source": [
    "start = time.time()\n",
    "\n",
    "clf.fit(X_train[0:1000, :], y_train[:1000])\n",
    "\n",
    "end = time.time()\n",
    "print(end - start)"
   ]
  },
  {
   "cell_type": "code",
   "execution_count": null,
   "id": "d74bd3de",
   "metadata": {},
   "outputs": [],
   "source": [
    "y_pred = clf.predict(X_test)"
   ]
  },
  {
   "cell_type": "code",
   "execution_count": null,
   "id": "bdf3e89e",
   "metadata": {
    "scrolled": true
   },
   "outputs": [],
   "source": [
    "print('test accuracy:', accuracy_score(y_test, y_pred))\n",
    "\n",
    "print(classification_report(y_test, y_pred))"
   ]
  },
  {
   "cell_type": "markdown",
   "id": "84d33857",
   "metadata": {},
   "source": [
    "# Rise CLF"
   ]
  },
  {
   "cell_type": "code",
   "execution_count": null,
   "id": "3606f441",
   "metadata": {},
   "outputs": [],
   "source": [
    "from sktime.classification.interval_based import RandomIntervalSpectralEnsemble\n",
    "clf = RandomIntervalSpectralEnsemble()"
   ]
  },
  {
   "cell_type": "code",
   "execution_count": null,
   "id": "fe0bf583",
   "metadata": {},
   "outputs": [],
   "source": [
    "clf.fit(X_train[:1000, :], y_train[:1000])"
   ]
  },
  {
   "cell_type": "code",
   "execution_count": null,
   "id": "a0a35591",
   "metadata": {},
   "outputs": [],
   "source": [
    "y_pred = clf.predict(X_test[:1000, :])\n"
   ]
  },
  {
   "cell_type": "code",
   "execution_count": null,
   "id": "c126c5f0",
   "metadata": {},
   "outputs": [],
   "source": [
    "accuracy_score(y_test[:1000], y_pred)"
   ]
  },
  {
   "cell_type": "code",
   "execution_count": null,
   "id": "d53e2cf6",
   "metadata": {},
   "outputs": [],
   "source": [
    "confusion_matrix(y_test[:1000], y_pred)"
   ]
  }
 ],
 "metadata": {
  "kernelspec": {
   "display_name": "Python [conda env:root] *",
   "language": "python",
   "name": "conda-root-py"
  },
  "language_info": {
   "codemirror_mode": {
    "name": "ipython",
    "version": 3
   },
   "file_extension": ".py",
   "mimetype": "text/x-python",
   "name": "python",
   "nbconvert_exporter": "python",
   "pygments_lexer": "ipython3",
   "version": "3.8.13"
  }
 },
 "nbformat": 4,
 "nbformat_minor": 5
}

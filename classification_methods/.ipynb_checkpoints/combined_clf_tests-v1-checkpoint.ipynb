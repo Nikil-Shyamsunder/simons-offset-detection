{
 "cells": [
  {
   "cell_type": "code",
   "execution_count": 10,
   "id": "dd8dff9e",
   "metadata": {},
   "outputs": [],
   "source": [
    "import numpy as np"
   ]
  },
  {
   "cell_type": "code",
   "execution_count": 11,
   "id": "925d93c4",
   "metadata": {},
   "outputs": [],
   "source": [
    "X_train = np.genfromtxt('sliced_data/X_train.csv', delimiter=',')\n",
    "y_train = np.genfromtxt('sliced_data/y_train.csv', delimiter=',')\n",
    "X_test = np.genfromtxt('sliced_data/X_test.csv', delimiter=',')\n",
    "y_test = np.genfromtxt('sliced_data/y_test.csv', delimiter=',')\n",
    "X_val = np.genfromtxt('sliced_data/X_val.csv', delimiter=',')\n",
    "y_val = np.genfromtxt('sliced_data/y_val.csv', delimiter=',')"
   ]
  },
  {
   "cell_type": "code",
   "execution_count": 8,
   "id": "fbc39fdd",
   "metadata": {},
   "outputs": [
    {
     "data": {
      "text/plain": [
       "0.6292218896964514"
      ]
     },
     "execution_count": 8,
     "metadata": {},
     "output_type": "execute_result"
    }
   ],
   "source": [
    "from sktime.classification.interval_based import TimeSeriesForestClassifier\n",
    "from sklearn.metrics import accuracy_score\n",
    "clf = TimeSeriesForestClassifier()\n",
    "clf.fit(X_train, y_train)\n",
    "y_pred = clf.predict(X_test)\n",
    "accuracy_score(y_test, y_pred)"
   ]
  },
  {
   "cell_type": "code",
   "execution_count": null,
   "id": "a17747d8",
   "metadata": {},
   "outputs": [],
   "source": []
  }
 ],
 "metadata": {
  "kernelspec": {
   "display_name": "Python [conda env:root] *",
   "language": "python",
   "name": "conda-root-py"
  },
  "language_info": {
   "codemirror_mode": {
    "name": "ipython",
    "version": 3
   },
   "file_extension": ".py",
   "mimetype": "text/x-python",
   "name": "python",
   "nbconvert_exporter": "python",
   "pygments_lexer": "ipython3",
   "version": "3.8.13"
  }
 },
 "nbformat": 4,
 "nbformat_minor": 5
}

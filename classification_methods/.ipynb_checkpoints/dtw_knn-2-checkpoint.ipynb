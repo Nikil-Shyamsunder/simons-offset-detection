{
 "cells": [
  {
   "cell_type": "code",
   "execution_count": 198,
   "id": "4cede7ef",
   "metadata": {},
   "outputs": [],
   "source": [
    "import numpy as np\n",
    "from scipy.spatial import distance\n",
    "from sklearn.model_selection import train_test_split\n",
    "from sklearn.neighbors import KNeighborsClassifier\n",
    "from sklearn.model_selection import GridSearchCV\n",
    "from sklearn.metrics import classification_report\n",
    "import pandas as pd\n",
    "import matplotlib.pyplot as plt\n",
    "from sklearn.utils import resample\n",
    "import os"
   ]
  },
  {
   "cell_type": "code",
   "execution_count": 190,
   "id": "492a073b",
   "metadata": {},
   "outputs": [],
   "source": [
    "def preprocessing(station):\n",
    "    df = pd.read_csv('../Artificial_data/DOGEx_v1/csv/' + station + '.csv', header=None)\n",
    "\n",
    "    df.columns = ['date', 'un', 'ue', 'uz', 'sn', 'se', 'sz']\n",
    "    df.drop(['sn', 'se', 'sz'], axis=1, inplace=True)\n",
    "    df = df[['date','uz']]\n",
    "\n",
    "    meta = pd.read_csv('synthetic-meta.txt', sep=',', header=None)\n",
    "    meta.columns = ['station', 'direction', 'date']\n",
    "    z_meta = meta[meta.direction == 'Z']\n",
    "\n",
    "    offset_dates = z_meta[z_meta.station==station]['date']\n",
    "\n",
    "    offset = 10\n",
    "    interval_size = 40\n",
    "    ranges = np.empty((1 * (df.shape[0]-interval_size)//offset, 3), dtype=np.ndarray)\n",
    "\n",
    "    ranges[0] = (np.array([1, 2, 3]), np.array([1, 2, 3]), np.array([1]))\n",
    "\n",
    "    j=0\n",
    "    for col in ['uz']:\n",
    "        i = 0\n",
    "        while i < ranges.shape[0] / 1:\n",
    "\n",
    "            arr = np.array(df.iloc[i * offset:i * offset + interval_size].T)\n",
    "\n",
    "            for date in arr[0]:\n",
    "                if date in offset_dates.values:\n",
    "                    ranges[j] = (arr[0], arr[1], 1)\n",
    "                    break\n",
    "                else:\n",
    "                    ranges[j] = (arr[0], arr[1], 0)\n",
    "\n",
    "            i = i + 1   \n",
    "            j = j + 1    \n",
    "\n",
    "\n",
    "    data = pd.DataFrame(ranges)\n",
    "    data.columns = ['dates', 'uz', 'label']\n",
    "    regular = data[data.label == 0]\n",
    "    offsets  = data[data.label == 1]\n",
    "\n",
    "    offsets_upsampled = resample(offsets, replace=True, n_samples=len(regular), random_state=42)\n",
    "    data_upsampled = pd.concat([regular, offsets_upsampled])\n",
    "\n",
    "    data_upsampled.label.value_counts()\n",
    "\n",
    "    X = X = np.stack(np.array(data_upsampled['uz']))\n",
    "    y = np.stack(np.array(data_upsampled['label']))\n",
    "    return X, y"
   ]
  },
  {
   "cell_type": "code",
   "execution_count": 191,
   "id": "f07c6dbf",
   "metadata": {},
   "outputs": [],
   "source": [
    "X, y = preprocessing('awmi')"
   ]
  },
  {
   "cell_type": "code",
   "execution_count": 192,
   "id": "b4658253",
   "metadata": {},
   "outputs": [],
   "source": [
    "X_train, X_test, y_train, y_test = train_test_split(X, y, test_size=0.33, random_state=42)"
   ]
  },
  {
   "cell_type": "code",
   "execution_count": 193,
   "id": "1dd4fd66",
   "metadata": {},
   "outputs": [],
   "source": [
    "import sktime.classification.kernel_based\n",
    "clf = sktime.classification.kernel_based.RocketClassifier()"
   ]
  },
  {
   "cell_type": "code",
   "execution_count": 194,
   "id": "d0d1f5b5",
   "metadata": {},
   "outputs": [
    {
     "data": {
      "text/html": [
       "<style>#sk-container-id-2 {color: black;background-color: white;}#sk-container-id-2 pre{padding: 0;}#sk-container-id-2 div.sk-toggleable {background-color: white;}#sk-container-id-2 label.sk-toggleable__label {cursor: pointer;display: block;width: 100%;margin-bottom: 0;padding: 0.3em;box-sizing: border-box;text-align: center;}#sk-container-id-2 label.sk-toggleable__label-arrow:before {content: \"▸\";float: left;margin-right: 0.25em;color: #696969;}#sk-container-id-2 label.sk-toggleable__label-arrow:hover:before {color: black;}#sk-container-id-2 div.sk-estimator:hover label.sk-toggleable__label-arrow:before {color: black;}#sk-container-id-2 div.sk-toggleable__content {max-height: 0;max-width: 0;overflow: hidden;text-align: left;background-color: #f0f8ff;}#sk-container-id-2 div.sk-toggleable__content pre {margin: 0.2em;color: black;border-radius: 0.25em;background-color: #f0f8ff;}#sk-container-id-2 input.sk-toggleable__control:checked~div.sk-toggleable__content {max-height: 200px;max-width: 100%;overflow: auto;}#sk-container-id-2 input.sk-toggleable__control:checked~label.sk-toggleable__label-arrow:before {content: \"▾\";}#sk-container-id-2 div.sk-estimator input.sk-toggleable__control:checked~label.sk-toggleable__label {background-color: #d4ebff;}#sk-container-id-2 div.sk-label input.sk-toggleable__control:checked~label.sk-toggleable__label {background-color: #d4ebff;}#sk-container-id-2 input.sk-hidden--visually {border: 0;clip: rect(1px 1px 1px 1px);clip: rect(1px, 1px, 1px, 1px);height: 1px;margin: -1px;overflow: hidden;padding: 0;position: absolute;width: 1px;}#sk-container-id-2 div.sk-estimator {font-family: monospace;background-color: #f0f8ff;border: 1px dotted black;border-radius: 0.25em;box-sizing: border-box;margin-bottom: 0.5em;}#sk-container-id-2 div.sk-estimator:hover {background-color: #d4ebff;}#sk-container-id-2 div.sk-parallel-item::after {content: \"\";width: 100%;border-bottom: 1px solid gray;flex-grow: 1;}#sk-container-id-2 div.sk-label:hover label.sk-toggleable__label {background-color: #d4ebff;}#sk-container-id-2 div.sk-serial::before {content: \"\";position: absolute;border-left: 1px solid gray;box-sizing: border-box;top: 0;bottom: 0;left: 50%;z-index: 0;}#sk-container-id-2 div.sk-serial {display: flex;flex-direction: column;align-items: center;background-color: white;padding-right: 0.2em;padding-left: 0.2em;position: relative;}#sk-container-id-2 div.sk-item {position: relative;z-index: 1;}#sk-container-id-2 div.sk-parallel {display: flex;align-items: stretch;justify-content: center;background-color: white;position: relative;}#sk-container-id-2 div.sk-item::before, #sk-container-id-2 div.sk-parallel-item::before {content: \"\";position: absolute;border-left: 1px solid gray;box-sizing: border-box;top: 0;bottom: 0;left: 50%;z-index: -1;}#sk-container-id-2 div.sk-parallel-item {display: flex;flex-direction: column;z-index: 1;position: relative;background-color: white;}#sk-container-id-2 div.sk-parallel-item:first-child::after {align-self: flex-end;width: 50%;}#sk-container-id-2 div.sk-parallel-item:last-child::after {align-self: flex-start;width: 50%;}#sk-container-id-2 div.sk-parallel-item:only-child::after {width: 0;}#sk-container-id-2 div.sk-dashed-wrapped {border: 1px dashed gray;margin: 0 0.4em 0.5em 0.4em;box-sizing: border-box;padding-bottom: 0.4em;background-color: white;}#sk-container-id-2 div.sk-label label {font-family: monospace;font-weight: bold;display: inline-block;line-height: 1.2em;}#sk-container-id-2 div.sk-label-container {text-align: center;}#sk-container-id-2 div.sk-container {/* jupyter's `normalize.less` sets `[hidden] { display: none; }` but bootstrap.min.css set `[hidden] { display: none !important; }` so we also need the `!important` here to be able to override the default hidden behavior on the sphinx rendered scikit-learn.org. See: https://github.com/scikit-learn/scikit-learn/issues/21755 */display: inline-block !important;position: relative;}#sk-container-id-2 div.sk-text-repr-fallback {display: none;}</style><div id=\"sk-container-id-2\" class=\"sk-top-container\"><div class=\"sk-text-repr-fallback\"><pre>RocketClassifier()</pre><b>In a Jupyter environment, please rerun this cell to show the HTML representation or trust the notebook. <br />On GitHub, the HTML representation is unable to render, please try loading this page with nbviewer.org.</b></div><div class=\"sk-container\" hidden><div class=\"sk-item\"><div class=\"sk-estimator sk-toggleable\"><input class=\"sk-toggleable__control sk-hidden--visually\" id=\"sk-estimator-id-2\" type=\"checkbox\" checked><label for=\"sk-estimator-id-2\" class=\"sk-toggleable__label sk-toggleable__label-arrow\">RocketClassifier</label><div class=\"sk-toggleable__content\"><pre>RocketClassifier()</pre></div></div></div></div></div>"
      ],
      "text/plain": [
       "RocketClassifier()"
      ]
     },
     "execution_count": 194,
     "metadata": {},
     "output_type": "execute_result"
    }
   ],
   "source": [
    "clf.fit(X_train, y_train)"
   ]
  },
  {
   "cell_type": "code",
   "execution_count": 195,
   "id": "c85c11b9",
   "metadata": {},
   "outputs": [],
   "source": [
    "y_pred = clf.predict(X_test)"
   ]
  },
  {
   "cell_type": "code",
   "execution_count": 196,
   "id": "a0ffa4a0",
   "metadata": {},
   "outputs": [
    {
     "data": {
      "text/plain": [
       "1.0"
      ]
     },
     "execution_count": 196,
     "metadata": {},
     "output_type": "execute_result"
    }
   ],
   "source": [
    "from sklearn.metrics import accuracy_score\n",
    "\n",
    "accuracy_score(y_test, y_pred)"
   ]
  },
  {
   "cell_type": "code",
   "execution_count": 197,
   "id": "bcaaf61c",
   "metadata": {},
   "outputs": [
    {
     "name": "stdout",
     "output_type": "stream",
     "text": [
      "              precision    recall  f1-score   support\n",
      "\n",
      "           0       1.00      1.00      1.00       169\n",
      "           1       1.00      1.00      1.00       170\n",
      "\n",
      "    accuracy                           1.00       339\n",
      "   macro avg       1.00      1.00      1.00       339\n",
      "weighted avg       1.00      1.00      1.00       339\n",
      "\n"
     ]
    }
   ],
   "source": [
    "print(classification_report(y_test, y_pred))"
   ]
  },
  {
   "cell_type": "code",
   "execution_count": null,
   "id": "9e06f97d",
   "metadata": {},
   "outputs": [],
   "source": [
    "#### from sklearn.metrics import plot_confusion_matrix, confusion_matrix\n",
    "confusion_matrix(y_test, y_pred)\n",
    "\n",
    "plot_confusion_matrix(clf, X_test, y_test) "
   ]
  },
  {
   "cell_type": "code",
   "execution_count": null,
   "id": "991f69b2",
   "metadata": {},
   "outputs": [],
   "source": []
  }
 ],
 "metadata": {
  "kernelspec": {
   "display_name": "Python [conda env:root] *",
   "language": "python",
   "name": "conda-root-py"
  },
  "language_info": {
   "codemirror_mode": {
    "name": "ipython",
    "version": 3
   },
   "file_extension": ".py",
   "mimetype": "text/x-python",
   "name": "python",
   "nbconvert_exporter": "python",
   "pygments_lexer": "ipython3",
   "version": "3.8.13"
  }
 },
 "nbformat": 4,
 "nbformat_minor": 5
}

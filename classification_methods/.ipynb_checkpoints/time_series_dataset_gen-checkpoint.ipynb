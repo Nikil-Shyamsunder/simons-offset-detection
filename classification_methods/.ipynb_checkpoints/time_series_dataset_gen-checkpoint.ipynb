{
 "cells": [
  {
   "cell_type": "code",
   "execution_count": 100,
   "id": "412a0d88",
   "metadata": {},
   "outputs": [],
   "source": [
    "import pandas as pd\n",
    "import matplotlib.pyplot as plt\n",
    "import numpy as np"
   ]
  },
  {
   "cell_type": "code",
   "execution_count": 107,
   "id": "3b9d171a",
   "metadata": {},
   "outputs": [],
   "source": [
    "df = pd.read_csv('../Artificial_data/DOGEx_v1/csv/ajgj.csv', header=None, )"
   ]
  },
  {
   "cell_type": "code",
   "execution_count": 108,
   "id": "15def232",
   "metadata": {},
   "outputs": [],
   "source": [
    "df.columns = ['date', 'un', 'ue', 'uz', 'sn', 'se', 'sz']\n",
    "df.set_index('date', inplace=True)\n",
    "df.drop(['sn', 'se', 'sz'], axis=1, inplace=True)"
   ]
  },
  {
   "cell_type": "code",
   "execution_count": 109,
   "id": "25651491",
   "metadata": {},
   "outputs": [
    {
     "data": {
      "text/html": [
       "<div>\n",
       "<style scoped>\n",
       "    .dataframe tbody tr th:only-of-type {\n",
       "        vertical-align: middle;\n",
       "    }\n",
       "\n",
       "    .dataframe tbody tr th {\n",
       "        vertical-align: top;\n",
       "    }\n",
       "\n",
       "    .dataframe thead th {\n",
       "        text-align: right;\n",
       "    }\n",
       "</style>\n",
       "<table border=\"1\" class=\"dataframe\">\n",
       "  <thead>\n",
       "    <tr style=\"text-align: right;\">\n",
       "      <th></th>\n",
       "      <th>un</th>\n",
       "      <th>ue</th>\n",
       "      <th>uz</th>\n",
       "    </tr>\n",
       "    <tr>\n",
       "      <th>date</th>\n",
       "      <th></th>\n",
       "      <th></th>\n",
       "      <th></th>\n",
       "    </tr>\n",
       "  </thead>\n",
       "  <tbody>\n",
       "    <tr>\n",
       "      <th>1992.4901</th>\n",
       "      <td>0.047245</td>\n",
       "      <td>-0.036244</td>\n",
       "      <td>0.007827</td>\n",
       "    </tr>\n",
       "    <tr>\n",
       "      <th>1992.4956</th>\n",
       "      <td>0.048823</td>\n",
       "      <td>-0.022145</td>\n",
       "      <td>-0.009830</td>\n",
       "    </tr>\n",
       "    <tr>\n",
       "      <th>1992.5010</th>\n",
       "      <td>0.058418</td>\n",
       "      <td>-0.045240</td>\n",
       "      <td>-0.000364</td>\n",
       "    </tr>\n",
       "    <tr>\n",
       "      <th>1992.5038</th>\n",
       "      <td>0.037525</td>\n",
       "      <td>-0.022475</td>\n",
       "      <td>0.006226</td>\n",
       "    </tr>\n",
       "    <tr>\n",
       "      <th>1992.5065</th>\n",
       "      <td>0.040887</td>\n",
       "      <td>-0.040527</td>\n",
       "      <td>0.009022</td>\n",
       "    </tr>\n",
       "  </tbody>\n",
       "</table>\n",
       "</div>"
      ],
      "text/plain": [
       "                 un        ue        uz\n",
       "date                                   \n",
       "1992.4901  0.047245 -0.036244  0.007827\n",
       "1992.4956  0.048823 -0.022145 -0.009830\n",
       "1992.5010  0.058418 -0.045240 -0.000364\n",
       "1992.5038  0.037525 -0.022475  0.006226\n",
       "1992.5065  0.040887 -0.040527  0.009022"
      ]
     },
     "execution_count": 109,
     "metadata": {},
     "output_type": "execute_result"
    }
   ],
   "source": [
    "df.head()"
   ]
  },
  {
   "cell_type": "code",
   "execution_count": 110,
   "id": "e092b629",
   "metadata": {},
   "outputs": [],
   "source": [
    "offset = 10\n",
    "interval_size = 40\n",
    "ranges = np.empty((df.shape[1] * (df.shape[0]-interval_size)//offset, interval_size))"
   ]
  },
  {
   "cell_type": "code",
   "execution_count": 116,
   "id": "7bd724f7",
   "metadata": {},
   "outputs": [],
   "source": [
    "j=0\n",
    "for col in df.columns:\n",
    "    i = 0\n",
    "    while i < ranges.shape[0] / df.shape[1]:\n",
    "        ranges[j] = df[col].iloc[i * offset:i * offset + interval_size]\n",
    "        i = i + 1   \n",
    "        j = j + 1\n"
   ]
  },
  {
   "cell_type": "code",
   "execution_count": null,
   "id": "4cede7ef",
   "metadata": {},
   "outputs": [],
   "source": []
  }
 ],
 "metadata": {
  "kernelspec": {
   "display_name": "Python [conda env:root] *",
   "language": "python",
   "name": "conda-root-py"
  },
  "language_info": {
   "codemirror_mode": {
    "name": "ipython",
    "version": 3
   },
   "file_extension": ".py",
   "mimetype": "text/x-python",
   "name": "python",
   "nbconvert_exporter": "python",
   "pygments_lexer": "ipython3",
   "version": "3.8.13"
  }
 },
 "nbformat": 4,
 "nbformat_minor": 5
}

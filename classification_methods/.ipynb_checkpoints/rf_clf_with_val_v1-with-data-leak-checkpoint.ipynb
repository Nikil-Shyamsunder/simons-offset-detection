{
 "cells": [
  {
   "cell_type": "code",
   "execution_count": 15,
   "id": "4cede7ef",
   "metadata": {},
   "outputs": [],
   "source": [
    "import numpy as np\n",
    "from scipy.spatial import distance\n",
    "from sklearn.model_selection import train_test_split\n",
    "from sklearn.neighbors import KNeighborsClassifier\n",
    "from sklearn.model_selection import GridSearchCV\n",
    "from sklearn.metrics import classification_report\n",
    "import pandas as pd\n",
    "import matplotlib.pyplot as plt\n",
    "from sklearn.utils import resample\n",
    "import os\n",
    "import time"
   ]
  },
  {
   "cell_type": "code",
   "execution_count": 16,
   "id": "a6b20113",
   "metadata": {},
   "outputs": [],
   "source": [
    "meta = pd.read_csv('synthetic-meta.txt', sep=',', header=None)\n",
    "meta.columns = ['station', 'direction', 'date']\n",
    "z_meta = meta[meta.direction == 'Z']"
   ]
  },
  {
   "cell_type": "code",
   "execution_count": 17,
   "id": "b5fce623",
   "metadata": {},
   "outputs": [],
   "source": [
    "def process_csv(station):\n",
    "    df = pd.read_csv('../Artificial_data/DOGEx_v1/' + station, header=None)\n",
    "\n",
    "    df.columns = ['date', 'un', 'ue', 'uz', 'sn', 'se', 'sz']\n",
    "    df.drop(['sn', 'se', 'sz'], axis=1, inplace=True)\n",
    "    df = df[['date','uz']]\n",
    "\n",
    "    offset_dates = z_meta[z_meta.station==station.split('/')[1][0:4]]['date']\n",
    "    \n",
    "    return df, offset_dates"
   ]
  },
  {
   "cell_type": "code",
   "execution_count": 18,
   "id": "4083e458",
   "metadata": {},
   "outputs": [],
   "source": [
    "interval_size = 40\n",
    "offset = 10\n",
    "\n",
    "num_files = 0\n",
    "tot_ranges = 0\n",
    "\n",
    "csv_list = []\n",
    "ranges_per_csv = []\n",
    "\n",
    "for file in os.listdir('../Artificial_data/DOGEx_v1/csv/'):\n",
    "    if file[0] == '.':\n",
    "        continue \n",
    "    \n",
    "    num_ranges = (sum(1 for line in open('../Artificial_data/DOGEx_v1/csv/' + file)) - interval_size) // offset\n",
    "        \n",
    "    csv_list.append(file)\n",
    "    ranges_per_csv.append(num_ranges)\n",
    "    \n",
    "    tot_ranges += num_ranges\n",
    "    num_files +=  1\n",
    "    \n",
    "ranges = np.empty((tot_ranges, 3), dtype=np.ndarray)\n",
    "\n",
    "range_row = 0\n",
    "csv_idx = 0\n",
    "while range_row < tot_ranges:\n",
    "    df, offset_dates = process_csv('csv/'+csv_list[csv_idx])    \n",
    "    i = 0\n",
    "    while i < ranges_per_csv[csv_idx]:\n",
    "        arr = np.array(df.iloc[i * offset:i * offset + interval_size].T)\n",
    "\n",
    "        for date in arr[0]:\n",
    "            if date in offset_dates.values:\n",
    "                ranges[range_row] = (arr[0], arr[1], 1)\n",
    "                break\n",
    "            else:\n",
    "                ranges[range_row] = (arr[0], arr[1], 0)\n",
    "\n",
    "        i = i + 1  \n",
    "        range_row = range_row + 1   \n",
    "    \n",
    "    csv_idx += 1\n",
    "    \n",
    "data = pd.DataFrame(ranges)\n",
    "data.columns = ['dates', 'uz', 'label']\n",
    "regular = data[data.label == 0]\n",
    "offsets  = data[data.label == 1]\n",
    "\n",
    "offsets_upsampled = resample(offsets, replace=True, n_samples=len(regular), random_state=42)\n",
    "data_upsampled = pd.concat([regular, offsets_upsampled])\n",
    "\n",
    "data_upsampled.label.value_counts()\n",
    "\n",
    "X = np.stack(np.array(data_upsampled['uz']))\n",
    "y = np.stack(np.array(data_upsampled['label']))"
   ]
  },
  {
   "cell_type": "code",
   "execution_count": 19,
   "id": "206b4c57",
   "metadata": {},
   "outputs": [
    {
     "name": "stdout",
     "output_type": "stream",
     "text": [
      "(120, 3)\n"
     ]
    }
   ],
   "source": [
    "print(offsets.shape)"
   ]
  },
  {
   "cell_type": "code",
   "execution_count": 20,
   "id": "e1f7f6fb",
   "metadata": {},
   "outputs": [
    {
     "name": "stdout",
     "output_type": "stream",
     "text": [
      "(23383, 3)\n",
      "23503\n"
     ]
    }
   ],
   "source": [
    "print(regular.shape)\n",
    "print(tot_ranges)"
   ]
  },
  {
   "cell_type": "code",
   "execution_count": 22,
   "id": "f05e56c5",
   "metadata": {},
   "outputs": [],
   "source": [
    "interval_size = 40\n",
    "offset = 10\n",
    "\n",
    "num_files = 0\n",
    "tot_ranges = 0\n",
    "\n",
    "csv_list = []\n",
    "ranges_per_csv = []\n",
    "\n",
    "for file in os.listdir('../Artificial_data/DOGEx_v1/csv_val/'):\n",
    "    if file[0] == '.':\n",
    "        continue \n",
    "    num_ranges = (sum(1 for line in open('../Artificial_data/DOGEx_v1/csv_val/' + file)) - interval_size) // offset\n",
    "        \n",
    "    csv_list.append(file)\n",
    "    ranges_per_csv.append(num_ranges)\n",
    "    \n",
    "    tot_ranges += num_ranges\n",
    "    num_files +=  1\n",
    "    \n",
    "ranges = np.empty((tot_ranges, 3), dtype=np.ndarray)\n",
    "\n",
    "range_row = 0\n",
    "csv_idx = 0\n",
    "while range_row < tot_ranges:\n",
    "    df, offset_dates = process_csv('csv_val/'+csv_list[csv_idx]) \n",
    "    i = 0\n",
    "    while i < ranges_per_csv[csv_idx]:\n",
    "        arr = np.array(df.iloc[i * offset:i * offset + interval_size].T)\n",
    "\n",
    "        for date in arr[0]:\n",
    "            if date in offset_dates.values:\n",
    "                ranges[range_row] = (arr[0], arr[1], 1)\n",
    "                break\n",
    "            else:\n",
    "                ranges[range_row] = (arr[0], arr[1], 0)\n",
    "\n",
    "        i = i + 1  \n",
    "        range_row = range_row + 1   \n",
    "    \n",
    "    csv_idx += 1\n",
    "    \n",
    "data = pd.DataFrame(ranges)\n",
    "data.columns = ['dates', 'uz', 'label']\n",
    "regular = data[data.label == 0]\n",
    "offsets  = data[data.label == 1]\n",
    "\n",
    "offsets_upsampled = resample(offsets, replace=True, n_samples=len(regular), random_state=42)\n",
    "data_upsampled = pd.concat([regular, offsets_upsampled])\n",
    "\n",
    "data_upsampled.label.value_counts()\n",
    "\n",
    "X_val = np.stack(np.array(data_upsampled['uz']))\n",
    "y_val = np.stack(np.array(data_upsampled['label']))"
   ]
  },
  {
   "cell_type": "code",
   "execution_count": 24,
   "id": "41d2d5ba",
   "metadata": {},
   "outputs": [],
   "source": [
    "X_train, X_test, y_train, y_test = train_test_split(X, y, test_size=0.4, random_state=42)"
   ]
  },
  {
   "cell_type": "code",
   "execution_count": 25,
   "id": "b49ebade",
   "metadata": {},
   "outputs": [],
   "source": [
    "from sktime.classification.interval_based import TimeSeriesForestClassifier"
   ]
  },
  {
   "cell_type": "code",
   "execution_count": 26,
   "id": "bfe33242",
   "metadata": {},
   "outputs": [],
   "source": [
    "clf = TimeSeriesForestClassifier()"
   ]
  },
  {
   "cell_type": "code",
   "execution_count": 27,
   "id": "2aea53dc",
   "metadata": {},
   "outputs": [
    {
     "name": "stdout",
     "output_type": "stream",
     "text": [
      "86.32556247711182\n"
     ]
    }
   ],
   "source": [
    "start = time.time()\n",
    "\n",
    "clf.fit(X_train, y_train)\n",
    "\n",
    "end = time.time()\n",
    "print(end - start)"
   ]
  },
  {
   "cell_type": "code",
   "execution_count": 28,
   "id": "e8e4935a",
   "metadata": {},
   "outputs": [
    {
     "name": "stdout",
     "output_type": "stream",
     "text": [
      "5.054145336151123\n"
     ]
    }
   ],
   "source": [
    "start = time.time()\n",
    "                              \n",
    "y_pred = clf.predict(X_test)\n",
    "\n",
    "end = time.time()\n",
    "print(end - start)"
   ]
  },
  {
   "cell_type": "code",
   "execution_count": 29,
   "id": "02f2de49",
   "metadata": {},
   "outputs": [
    {
     "data": {
      "text/plain": [
       "0.9999465440744106"
      ]
     },
     "execution_count": 29,
     "metadata": {},
     "output_type": "execute_result"
    }
   ],
   "source": [
    "from sklearn.metrics import accuracy_score\n",
    "\n",
    "accuracy_score(y_test, y_pred)"
   ]
  },
  {
   "cell_type": "code",
   "execution_count": 30,
   "id": "5dd86343",
   "metadata": {},
   "outputs": [
    {
     "name": "stdout",
     "output_type": "stream",
     "text": [
      "              precision    recall  f1-score   support\n",
      "\n",
      "           0       1.00      1.00      1.00      9368\n",
      "           1       1.00      1.00      1.00      9339\n",
      "\n",
      "    accuracy                           1.00     18707\n",
      "   macro avg       1.00      1.00      1.00     18707\n",
      "weighted avg       1.00      1.00      1.00     18707\n",
      "\n"
     ]
    }
   ],
   "source": [
    "print(classification_report(y_test, y_pred))"
   ]
  },
  {
   "cell_type": "code",
   "execution_count": 31,
   "id": "9005bab6",
   "metadata": {},
   "outputs": [
    {
     "data": {
      "text/plain": [
       "{'min_interval': 3, 'n_estimators': 200, 'n_jobs': 1, 'random_state': None}"
      ]
     },
     "execution_count": 31,
     "metadata": {},
     "output_type": "execute_result"
    }
   ],
   "source": [
    "clf.get_params()"
   ]
  },
  {
   "cell_type": "code",
   "execution_count": 34,
   "id": "32deff3c",
   "metadata": {},
   "outputs": [],
   "source": [
    "val_pred = clf.predict(X_val)"
   ]
  },
  {
   "cell_type": "code",
   "execution_count": 35,
   "id": "218a7f1c",
   "metadata": {},
   "outputs": [
    {
     "data": {
      "text/plain": [
       "0.6911427260211106"
      ]
     },
     "execution_count": 35,
     "metadata": {},
     "output_type": "execute_result"
    }
   ],
   "source": [
    "accuracy_score(y_val, val_pred)"
   ]
  },
  {
   "cell_type": "code",
   "execution_count": null,
   "id": "a0f7b882",
   "metadata": {},
   "outputs": [],
   "source": []
  }
 ],
 "metadata": {
  "kernelspec": {
   "display_name": "Python 3 (ipykernel)",
   "language": "python",
   "name": "python3"
  },
  "language_info": {
   "codemirror_mode": {
    "name": "ipython",
    "version": 3
   },
   "file_extension": ".py",
   "mimetype": "text/x-python",
   "name": "python",
   "nbconvert_exporter": "python",
   "pygments_lexer": "ipython3",
   "version": "3.8.13"
  }
 },
 "nbformat": 4,
 "nbformat_minor": 5
}

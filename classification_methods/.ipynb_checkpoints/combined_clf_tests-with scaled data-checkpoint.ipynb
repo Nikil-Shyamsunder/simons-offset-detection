{
 "cells": [
  {
   "cell_type": "code",
   "execution_count": 16,
   "id": "368c301d",
   "metadata": {},
   "outputs": [],
   "source": [
    "import numpy as np\n",
    "import time\n",
    "import matplotlib.pyplot as plt\n",
    "from sklearn.preprocessing import MinMaxScaler, StandardScaler\n",
    "from sklearn.metrics import accuracy_score, confusion_matrix, classification_report"
   ]
  },
  {
   "cell_type": "markdown",
   "id": "cc41143e",
   "metadata": {},
   "source": [
    "# Import data"
   ]
  },
  {
   "cell_type": "code",
   "execution_count": 49,
   "id": "ec97fd54",
   "metadata": {},
   "outputs": [],
   "source": [
    "X_train = np.genfromtxt('sliced_data/window-100-step-30/ue/X_train.csv', delimiter=',')\n",
    "y_train = np.genfromtxt('sliced_data/window-100-step-30/ue/y_train.csv', delimiter=',')\n",
    "X_test = np.genfromtxt('sliced_data/window-100-step-30/ue/X_test.csv', delimiter=',')\n",
    "y_test = np.genfromtxt('sliced_data/window-100-step-30/ue/y_test.csv', delimiter=',')\n",
    "X_val = np.genfromtxt('sliced_data/window-100-step-30/ue/X_val.csv', delimiter=',')\n",
    "y_val = np.genfromtxt('sliced_data/window-100-step-30/ue/y_val.csv', delimiter=',')"
   ]
  },
  {
   "cell_type": "markdown",
   "id": "b3f38314",
   "metadata": {},
   "source": [
    "# Scale Data"
   ]
  },
  {
   "cell_type": "markdown",
   "id": "738ee001",
   "metadata": {},
   "source": [
    "## Min Max Scaler"
   ]
  },
  {
   "cell_type": "code",
   "execution_count": 50,
   "id": "a75ebc29",
   "metadata": {},
   "outputs": [],
   "source": [
    "scaler = MinMaxScaler()\n",
    "\n",
    "i = 0\n",
    "while i < X_train.shape[0]:\n",
    "    X_train[i] = scaler.fit_transform(X_train[i].reshape(-1, 1)).reshape(100, )\n",
    "    i += 1\n",
    "\n",
    "i = 0\n",
    "while i < X_test.shape[0]:\n",
    "    X_test[i] = scaler.fit_transform(X_test[i].reshape(-1, 1)).reshape(100, )\n",
    "    i += 1\n",
    "    \n",
    "i = 0\n",
    "while i < X_val.shape[0]:\n",
    "    X_val[i] = scaler.fit_transform(X_val[i].reshape(-1, 1)).reshape(100, )\n",
    "    i += 1"
   ]
  },
  {
   "cell_type": "markdown",
   "id": "9a13dc83",
   "metadata": {},
   "source": [
    "# Standard Scaler"
   ]
  },
  {
   "cell_type": "code",
   "execution_count": null,
   "id": "fa0ab24a",
   "metadata": {},
   "outputs": [],
   "source": [
    "scaler = StandardScaler()\n",
    "\n",
    "i = 0\n",
    "while i < X_train.shape[0]:\n",
    "    X_train[i] = scaler.fit_transform(X_train[i].reshape(-1, 1)).reshape(40, )\n",
    "    i += 1\n",
    "    \n",
    "i = 0\n",
    "while i < X_test.shape[0]:\n",
    "    X_test[i] = scaler.fit_transform(X_test[i].reshape(-1, 1)).reshape(40, )\n",
    "    i += 1"
   ]
  },
  {
   "cell_type": "markdown",
   "id": "c8be781c",
   "metadata": {},
   "source": [
    "# Time Series Forest clf"
   ]
  },
  {
   "cell_type": "code",
   "execution_count": null,
   "id": "8b3a5091",
   "metadata": {},
   "outputs": [],
   "source": [
    "from sktime.classification.interval_based import TimeSeriesForestClassifier\n",
    "from sklearn.metrics import accuracy_score\n",
    "clf = TimeSeriesForestClassifier()\n",
    "clf.fit(X_train, y_train)\n",
    "y_pred = clf.predict(X_test)\n",
    "accuracy_score(y_test, y_pred)"
   ]
  },
  {
   "cell_type": "code",
   "execution_count": null,
   "id": "d43b11d0",
   "metadata": {},
   "outputs": [],
   "source": [
    "y_pred = clf.predict(X_test)\n",
    "print('test accuracy:', accuracy_score(y_test, y_pred))\n",
    "\n",
    "val_pred = clf.predict(X_val)\n",
    "print('val accuracy:', accuracy_score(y_val, val_pred))\n",
    "\n",
    "print(classification_report(y_test, y_pred))"
   ]
  },
  {
   "cell_type": "code",
   "execution_count": null,
   "id": "d21d04e2",
   "metadata": {},
   "outputs": [],
   "source": [
    "np.unique(y_pred, return_counts=True)"
   ]
  },
  {
   "cell_type": "markdown",
   "id": "447007fe",
   "metadata": {},
   "source": [
    "# Rocket clf"
   ]
  },
  {
   "cell_type": "code",
   "execution_count": 51,
   "id": "7c036b8e",
   "metadata": {},
   "outputs": [
    {
     "name": "stdout",
     "output_type": "stream",
     "text": [
      "130.46110892295837\n"
     ]
    }
   ],
   "source": [
    "from sktime.classification.kernel_based import RocketClassifier\n",
    "start = time.time()\n",
    "clf = RocketClassifier()\n",
    "clf.fit(X_train, y_train)\n",
    "end = time.time()\n",
    "print(end - start)"
   ]
  },
  {
   "cell_type": "code",
   "execution_count": 52,
   "id": "7d45a159",
   "metadata": {},
   "outputs": [
    {
     "name": "stdout",
     "output_type": "stream",
     "text": [
      "test accuracy: 0.7814558629776021\n",
      "44.766815185546875\n",
      "val accuracy: 0.8205307262569832\n",
      "              precision    recall  f1-score   support\n",
      "\n",
      "         0.0       0.70      1.00      0.82      3036\n",
      "         1.0       1.00      0.56      0.72      3036\n",
      "\n",
      "    accuracy                           0.78      6072\n",
      "   macro avg       0.85      0.78      0.77      6072\n",
      "weighted avg       0.85      0.78      0.77      6072\n",
      "\n"
     ]
    }
   ],
   "source": [
    "start = time.time()\n",
    "y_pred = clf.predict(X_test)\n",
    "print('test accuracy:', accuracy_score(y_test, y_pred))\n",
    "end = time.time()\n",
    "print(end - start)\n",
    "\n",
    "val_pred = clf.predict(X_val)\n",
    "print('val accuracy:', accuracy_score(y_val, val_pred))\n",
    "\n",
    "print(classification_report(y_test, y_pred))"
   ]
  },
  {
   "cell_type": "code",
   "execution_count": 53,
   "id": "c5b195e2",
   "metadata": {},
   "outputs": [
    {
     "data": {
      "text/plain": [
       "array([[3033,    3],\n",
       "       [1324, 1712]])"
      ]
     },
     "execution_count": 53,
     "metadata": {},
     "output_type": "execute_result"
    }
   ],
   "source": [
    "confusion_matrix(y_test, y_pred)"
   ]
  },
  {
   "cell_type": "code",
   "execution_count": 54,
   "id": "a2ada06c",
   "metadata": {},
   "outputs": [
    {
     "name": "stdout",
     "output_type": "stream",
     "text": [
      "              precision    recall  f1-score   support\n",
      "\n",
      "         0.0       0.74      1.00      0.85       716\n",
      "         1.0       1.00      0.64      0.78       716\n",
      "\n",
      "    accuracy                           0.82      1432\n",
      "   macro avg       0.87      0.82      0.81      1432\n",
      "weighted avg       0.87      0.82      0.81      1432\n",
      "\n"
     ]
    }
   ],
   "source": [
    "print(classification_report(y_val, val_pred))"
   ]
  },
  {
   "cell_type": "code",
   "execution_count": null,
   "id": "c823fdb2",
   "metadata": {},
   "outputs": [],
   "source": [
    "import pickle\n",
    "filename = 'r_clf_v1_combined.sav' \n",
    "\n",
    "with open(filename, 'wb') as f:\n",
    "    pickle.dump(clf,f)\n"
   ]
  },
  {
   "cell_type": "markdown",
   "id": "f9b8fc45",
   "metadata": {},
   "source": [
    "# Shapelet Based Classifier"
   ]
  },
  {
   "cell_type": "code",
   "execution_count": null,
   "id": "c87845b8",
   "metadata": {},
   "outputs": [],
   "source": [
    "from sktime.classification.shapelet_based import ShapeletTransformClassifier\n",
    "from sktime._contrib.vector_classifiers._rotation_forest import RotationForest\n",
    "from sktime.datasets import load_unit_test\n",
    "\n",
    "\n",
    "clf = ShapeletTransformClassifier(\n",
    "    estimator=RotationForest(n_estimators=3),\n",
    "    n_shapelet_samples=100,\n",
    "    max_shapelets=10,\n",
    "    batch_size=20,\n",
    ")"
   ]
  },
  {
   "cell_type": "code",
   "execution_count": null,
   "id": "c0cbd95b",
   "metadata": {},
   "outputs": [],
   "source": [
    "start = time.time()\n",
    "\n",
    "clf.fit(X_train[0:1000, :], y_train[:1000])\n",
    "\n",
    "end = time.time()\n",
    "print(end - start)"
   ]
  },
  {
   "cell_type": "code",
   "execution_count": null,
   "id": "d74bd3de",
   "metadata": {},
   "outputs": [],
   "source": [
    "y_pred = clf.predict(X_test)"
   ]
  },
  {
   "cell_type": "code",
   "execution_count": null,
   "id": "bdf3e89e",
   "metadata": {
    "scrolled": true
   },
   "outputs": [],
   "source": [
    "print('test accuracy:', accuracy_score(y_test, y_pred))\n",
    "\n",
    "print(classification_report(y_test, y_pred))"
   ]
  },
  {
   "cell_type": "markdown",
   "id": "84d33857",
   "metadata": {},
   "source": [
    "# Rise CLF"
   ]
  },
  {
   "cell_type": "code",
   "execution_count": null,
   "id": "3606f441",
   "metadata": {},
   "outputs": [],
   "source": [
    "from sktime.classification.interval_based import RandomIntervalSpectralEnsemble\n",
    "clf = RandomIntervalSpectralEnsemble()"
   ]
  },
  {
   "cell_type": "code",
   "execution_count": null,
   "id": "fe0bf583",
   "metadata": {},
   "outputs": [],
   "source": [
    "clf.fit(X_train[:1000, :], y_train[:1000])"
   ]
  },
  {
   "cell_type": "code",
   "execution_count": null,
   "id": "a0a35591",
   "metadata": {},
   "outputs": [],
   "source": [
    "y_pred = clf.predict(X_test[:1000, :])\n"
   ]
  },
  {
   "cell_type": "code",
   "execution_count": null,
   "id": "c126c5f0",
   "metadata": {},
   "outputs": [],
   "source": [
    "accuracy_score(y_test[:1000], y_pred)"
   ]
  },
  {
   "cell_type": "code",
   "execution_count": null,
   "id": "d53e2cf6",
   "metadata": {},
   "outputs": [],
   "source": [
    "confusion_matrix(y_test[:1000], y_pred)"
   ]
  },
  {
   "cell_type": "code",
   "execution_count": null,
   "id": "9c97f02c",
   "metadata": {},
   "outputs": [],
   "source": []
  }
 ],
 "metadata": {
  "kernelspec": {
   "display_name": "Python [conda env:root] *",
   "language": "python",
   "name": "conda-root-py"
  },
  "language_info": {
   "codemirror_mode": {
    "name": "ipython",
    "version": 3
   },
   "file_extension": ".py",
   "mimetype": "text/x-python",
   "name": "python",
   "nbconvert_exporter": "python",
   "pygments_lexer": "ipython3",
   "version": "3.8.13"
  }
 },
 "nbformat": 4,
 "nbformat_minor": 5
}

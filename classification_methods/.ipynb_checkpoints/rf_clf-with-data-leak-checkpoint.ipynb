{
 "cells": [
  {
   "cell_type": "code",
   "execution_count": 1,
   "id": "4cede7ef",
   "metadata": {},
   "outputs": [],
   "source": [
    "import numpy as np\n",
    "from scipy.spatial import distance\n",
    "from sklearn.model_selection import train_test_split\n",
    "from sklearn.neighbors import KNeighborsClassifier\n",
    "from sklearn.model_selection import GridSearchCV\n",
    "from sklearn.metrics import classification_report\n",
    "import pandas as pd\n",
    "import matplotlib.pyplot as plt\n",
    "from sklearn.utils import resample\n",
    "import os\n",
    "import time"
   ]
  },
  {
   "cell_type": "code",
   "execution_count": 2,
   "id": "a6b20113",
   "metadata": {},
   "outputs": [],
   "source": [
    "meta = pd.read_csv('synthetic-meta.txt', sep=',', header=None)\n",
    "meta.columns = ['station', 'direction', 'date']\n",
    "z_meta = meta[meta.direction == 'Z']"
   ]
  },
  {
   "cell_type": "code",
   "execution_count": 3,
   "id": "b5fce623",
   "metadata": {},
   "outputs": [],
   "source": [
    "def process_csv(station):\n",
    "    df = pd.read_csv('../Artificial_data/DOGEx_v1/csv/' + station, header=None)\n",
    "\n",
    "    df.columns = ['date', 'un', 'ue', 'uz', 'sn', 'se', 'sz']\n",
    "    df.drop(['sn', 'se', 'sz'], axis=1, inplace=True)\n",
    "    df = df[['date','uz']]\n",
    "\n",
    "    offset_dates = z_meta[z_meta.station==station[0:4]]['date']\n",
    "    \n",
    "    return df, offset_dates"
   ]
  },
  {
   "cell_type": "code",
   "execution_count": 4,
   "id": "4083e458",
   "metadata": {},
   "outputs": [],
   "source": [
    "interval_size = 40\n",
    "offset = 10\n",
    "\n",
    "num_files = 0\n",
    "tot_ranges = 0\n",
    "\n",
    "csv_list = []\n",
    "ranges_per_csv = []\n",
    "\n",
    "for file in os.listdir('../Artificial_data/DOGEx_v1/csv/'):\n",
    "    if file[0] == '.':\n",
    "        continue \n",
    "    \n",
    "    num_ranges = (sum(1 for line in open('../Artificial_data/DOGEx_v1/csv/' + file)) - interval_size) // offset\n",
    "        \n",
    "    csv_list.append(file)\n",
    "    ranges_per_csv.append(num_ranges)\n",
    "    \n",
    "    tot_ranges += num_ranges\n",
    "    num_files +=  1"
   ]
  },
  {
   "cell_type": "code",
   "execution_count": 5,
   "id": "fde50d1f",
   "metadata": {},
   "outputs": [],
   "source": [
    "ranges = np.empty((tot_ranges, 3), dtype=np.ndarray)"
   ]
  },
  {
   "cell_type": "code",
   "execution_count": 6,
   "id": "0e17ad77",
   "metadata": {},
   "outputs": [],
   "source": [
    "range_row = 0\n",
    "csv_idx = 0\n",
    "while range_row < tot_ranges:\n",
    "    df, offset_dates = process_csv(csv_list[csv_idx])    \n",
    "    i = 0\n",
    "    while i < ranges_per_csv[csv_idx]:\n",
    "        arr = np.array(df.iloc[i * offset:i * offset + interval_size].T)\n",
    "\n",
    "        for date in arr[0]:\n",
    "            if date in offset_dates.values:\n",
    "                ranges[range_row] = (arr[0], arr[1], 1)\n",
    "                break\n",
    "            else:\n",
    "                ranges[range_row] = (arr[0], arr[1], 0)\n",
    "\n",
    "        i = i + 1  \n",
    "        range_row = range_row + 1   \n",
    "    \n",
    "    csv_idx += 1"
   ]
  },
  {
   "cell_type": "code",
   "execution_count": 7,
   "id": "36cb0011",
   "metadata": {},
   "outputs": [
    {
     "data": {
      "text/html": [
       "<div>\n",
       "<style scoped>\n",
       "    .dataframe tbody tr th:only-of-type {\n",
       "        vertical-align: middle;\n",
       "    }\n",
       "\n",
       "    .dataframe tbody tr th {\n",
       "        vertical-align: top;\n",
       "    }\n",
       "\n",
       "    .dataframe thead th {\n",
       "        text-align: right;\n",
       "    }\n",
       "</style>\n",
       "<table border=\"1\" class=\"dataframe\">\n",
       "  <thead>\n",
       "    <tr style=\"text-align: right;\">\n",
       "      <th></th>\n",
       "      <th>0</th>\n",
       "      <th>1</th>\n",
       "      <th>2</th>\n",
       "    </tr>\n",
       "  </thead>\n",
       "  <tbody>\n",
       "    <tr>\n",
       "      <th>0</th>\n",
       "      <td>[1991.6934, 1991.6988, 1992.0164, 1992.0192, 1...</td>\n",
       "      <td>[-0.00497095, 0.02199764, -0.00127296, 0.00747...</td>\n",
       "      <td>0</td>\n",
       "    </tr>\n",
       "    <tr>\n",
       "      <th>1</th>\n",
       "      <td>[1992.0602, 1992.063, 1992.0657, 1992.0821, 19...</td>\n",
       "      <td>[0.0074101, -0.00149556, -0.00742904, -0.01239...</td>\n",
       "      <td>0</td>\n",
       "    </tr>\n",
       "    <tr>\n",
       "      <th>2</th>\n",
       "      <td>[1992.104, 1992.1095, 1992.1123, 1992.115, 199...</td>\n",
       "      <td>[-0.02175648, -0.00756418, -0.01096628, -0.004...</td>\n",
       "      <td>0</td>\n",
       "    </tr>\n",
       "    <tr>\n",
       "      <th>3</th>\n",
       "      <td>[1992.1588, 1992.178, 1992.1807, 1992.1834, 19...</td>\n",
       "      <td>[-0.01787595, -0.01300338, -0.00406316, -0.012...</td>\n",
       "      <td>0</td>\n",
       "    </tr>\n",
       "    <tr>\n",
       "      <th>4</th>\n",
       "      <td>[1992.2245, 1992.2327, 1992.2355, 1992.2382, 1...</td>\n",
       "      <td>[-0.02349643, -0.02366129, -0.0154773, -0.0193...</td>\n",
       "      <td>0</td>\n",
       "    </tr>\n",
       "  </tbody>\n",
       "</table>\n",
       "</div>"
      ],
      "text/plain": [
       "                                                   0  \\\n",
       "0  [1991.6934, 1991.6988, 1992.0164, 1992.0192, 1...   \n",
       "1  [1992.0602, 1992.063, 1992.0657, 1992.0821, 19...   \n",
       "2  [1992.104, 1992.1095, 1992.1123, 1992.115, 199...   \n",
       "3  [1992.1588, 1992.178, 1992.1807, 1992.1834, 19...   \n",
       "4  [1992.2245, 1992.2327, 1992.2355, 1992.2382, 1...   \n",
       "\n",
       "                                                   1  2  \n",
       "0  [-0.00497095, 0.02199764, -0.00127296, 0.00747...  0  \n",
       "1  [0.0074101, -0.00149556, -0.00742904, -0.01239...  0  \n",
       "2  [-0.02175648, -0.00756418, -0.01096628, -0.004...  0  \n",
       "3  [-0.01787595, -0.01300338, -0.00406316, -0.012...  0  \n",
       "4  [-0.02349643, -0.02366129, -0.0154773, -0.0193...  0  "
      ]
     },
     "execution_count": 7,
     "metadata": {},
     "output_type": "execute_result"
    }
   ],
   "source": [
    "data = pd.DataFrame(ranges)\n",
    "data.head()"
   ]
  },
  {
   "cell_type": "code",
   "execution_count": 8,
   "id": "268e3265",
   "metadata": {},
   "outputs": [],
   "source": [
    "data.columns = ['dates', 'uz', 'label']\n",
    "regular = data[data.label == 0]\n",
    "offsets  = data[data.label == 1]"
   ]
  },
  {
   "cell_type": "code",
   "execution_count": 9,
   "id": "343e903b",
   "metadata": {},
   "outputs": [],
   "source": [
    "offsets_upsampled = resample(offsets, replace=True, n_samples=len(regular), random_state=42)\n",
    "data_upsampled = pd.concat([regular, offsets_upsampled])"
   ]
  },
  {
   "cell_type": "code",
   "execution_count": 10,
   "id": "8b373943",
   "metadata": {},
   "outputs": [],
   "source": [
    "data_upsampled.label.value_counts()\n",
    "\n",
    "X = X = np.stack(np.array(data_upsampled['uz']))\n",
    "y = np.stack(np.array(data_upsampled['label']))"
   ]
  },
  {
   "cell_type": "code",
   "execution_count": 11,
   "id": "41d2d5ba",
   "metadata": {},
   "outputs": [],
   "source": [
    "X_train, X_test, y_train, y_test = train_test_split(X, y, test_size=0.4, random_state=42)"
   ]
  },
  {
   "cell_type": "code",
   "execution_count": 13,
   "id": "b49ebade",
   "metadata": {},
   "outputs": [],
   "source": [
    "from sktime.classification.interval_based import TimeSeriesForestClassifier"
   ]
  },
  {
   "cell_type": "code",
   "execution_count": 14,
   "id": "bfe33242",
   "metadata": {},
   "outputs": [],
   "source": [
    "clf = TimeSeriesForestClassifier()"
   ]
  },
  {
   "cell_type": "code",
   "execution_count": 21,
   "id": "0230c700",
   "metadata": {},
   "outputs": [
    {
     "name": "stdout",
     "output_type": "stream",
     "text": [
      "115.42716717720032\n"
     ]
    }
   ],
   "source": [
    "start = time.time()\n",
    "\n",
    "clf.fit(X_train, y_train)\n",
    "\n",
    "end = time.time()\n",
    "print(end - start)"
   ]
  },
  {
   "cell_type": "code",
   "execution_count": 23,
   "id": "e8e4935a",
   "metadata": {},
   "outputs": [
    {
     "name": "stdout",
     "output_type": "stream",
     "text": [
      "4.640050888061523\n"
     ]
    }
   ],
   "source": [
    "start = time.time()\n",
    "                              \n",
    "y_pred = clf.predict(X_test)\n",
    "\n",
    "end = time.time()\n",
    "print(end - start)"
   ]
  },
  {
   "cell_type": "code",
   "execution_count": 24,
   "id": "02f2de49",
   "metadata": {},
   "outputs": [
    {
     "data": {
      "text/plain": [
       "1.0"
      ]
     },
     "execution_count": 24,
     "metadata": {},
     "output_type": "execute_result"
    }
   ],
   "source": [
    "from sklearn.metrics import accuracy_score\n",
    "\n",
    "accuracy_score(y_test, y_pred)"
   ]
  },
  {
   "cell_type": "code",
   "execution_count": 26,
   "id": "5dd86343",
   "metadata": {},
   "outputs": [
    {
     "name": "stdout",
     "output_type": "stream",
     "text": [
      "              precision    recall  f1-score   support\n",
      "\n",
      "           0       1.00      1.00      1.00      8458\n",
      "           1       1.00      1.00      1.00      8413\n",
      "\n",
      "    accuracy                           1.00     16871\n",
      "   macro avg       1.00      1.00      1.00     16871\n",
      "weighted avg       1.00      1.00      1.00     16871\n",
      "\n"
     ]
    }
   ],
   "source": [
    "print(classification_report(y_test, y_pred))"
   ]
  },
  {
   "cell_type": "code",
   "execution_count": 29,
   "id": "9005bab6",
   "metadata": {},
   "outputs": [
    {
     "data": {
      "text/plain": [
       "{'min_interval': 3, 'n_estimators': 200, 'n_jobs': 1, 'random_state': None}"
      ]
     },
     "execution_count": 29,
     "metadata": {},
     "output_type": "execute_result"
    }
   ],
   "source": [
    "clf.get_params()"
   ]
  },
  {
   "cell_type": "code",
   "execution_count": null,
   "id": "32deff3c",
   "metadata": {},
   "outputs": [],
   "source": []
  }
 ],
 "metadata": {
  "kernelspec": {
   "display_name": "Python 3 (ipykernel)",
   "language": "python",
   "name": "python3"
  },
  "language_info": {
   "codemirror_mode": {
    "name": "ipython",
    "version": 3
   },
   "file_extension": ".py",
   "mimetype": "text/x-python",
   "name": "python",
   "nbconvert_exporter": "python",
   "pygments_lexer": "ipython3",
   "version": "3.8.13"
  }
 },
 "nbformat": 4,
 "nbformat_minor": 5
}

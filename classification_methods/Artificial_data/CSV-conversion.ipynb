{
 "cells": [
  {
   "cell_type": "code",
   "execution_count": 22,
   "id": "fed60a7f",
   "metadata": {},
   "outputs": [],
   "source": [
    "import pandas as pd\n",
    "import seaborn as sns\n",
    "import os"
   ]
  },
  {
   "cell_type": "markdown",
   "id": "58a5de8e",
   "metadata": {},
   "source": [
    "## Converting every DOGEx station to csv"
   ]
  },
  {
   "cell_type": "code",
   "execution_count": 30,
   "id": "76fc1d51",
   "metadata": {},
   "outputs": [],
   "source": [
    "for file in os.listdir('DOGEx_v1/raw'):\n",
    "    if file[0] != '.' and os.path.isfile('DOGEx_v1/raw/' + file):\n",
    "        with open('DOGEx_v1/raw/' + file) as to_read:\n",
    "            lines = to_read.readlines()\n",
    "            \n",
    "        with open('DOGEx_v1/csv/' + file[0:4] + '.csv', \"a\") as to_append:\n",
    "            for line in lines:\n",
    "                line_reconstructed = ''\n",
    "\n",
    "                items = line.split(' ')\n",
    "                items = [item for item in items if item != '']\n",
    "\n",
    "                for item in items:\n",
    "                    line_reconstructed += item + ',' \n",
    "                line_reconstructed = line_reconstructed[0:-1]\n",
    "\n",
    "                to_append.write(line_reconstructed)"
   ]
  },
  {
   "cell_type": "markdown",
   "id": "ce80505e",
   "metadata": {},
   "source": [
    "## Creating test dataframe"
   ]
  },
  {
   "cell_type": "code",
   "execution_count": 33,
   "id": "2d403a04",
   "metadata": {},
   "outputs": [],
   "source": [
    "df = pd.read_csv('DOGEx_v1/csv/ajgj.csv',sep=',', header=None)\n",
    "df.columns = ['date', 'un', 'ue', 'uz', 'sn', 'se', 'sz']"
   ]
  },
  {
   "cell_type": "code",
   "execution_count": 34,
   "id": "525526ec",
   "metadata": {},
   "outputs": [
    {
     "data": {
      "text/html": [
       "<div>\n",
       "<style scoped>\n",
       "    .dataframe tbody tr th:only-of-type {\n",
       "        vertical-align: middle;\n",
       "    }\n",
       "\n",
       "    .dataframe tbody tr th {\n",
       "        vertical-align: top;\n",
       "    }\n",
       "\n",
       "    .dataframe thead th {\n",
       "        text-align: right;\n",
       "    }\n",
       "</style>\n",
       "<table border=\"1\" class=\"dataframe\">\n",
       "  <thead>\n",
       "    <tr style=\"text-align: right;\">\n",
       "      <th></th>\n",
       "      <th>date</th>\n",
       "      <th>un</th>\n",
       "      <th>ue</th>\n",
       "      <th>uz</th>\n",
       "      <th>sn</th>\n",
       "      <th>se</th>\n",
       "      <th>sz</th>\n",
       "    </tr>\n",
       "  </thead>\n",
       "  <tbody>\n",
       "    <tr>\n",
       "      <th>0</th>\n",
       "      <td>1992.4901</td>\n",
       "      <td>0.047245</td>\n",
       "      <td>-0.036244</td>\n",
       "      <td>0.007827</td>\n",
       "      <td>0.01520</td>\n",
       "      <td>0.00910</td>\n",
       "      <td>0.0157</td>\n",
       "    </tr>\n",
       "    <tr>\n",
       "      <th>1</th>\n",
       "      <td>1992.4956</td>\n",
       "      <td>0.048823</td>\n",
       "      <td>-0.022145</td>\n",
       "      <td>-0.009830</td>\n",
       "      <td>0.01925</td>\n",
       "      <td>0.01330</td>\n",
       "      <td>0.0201</td>\n",
       "    </tr>\n",
       "    <tr>\n",
       "      <th>2</th>\n",
       "      <td>1992.5010</td>\n",
       "      <td>0.058418</td>\n",
       "      <td>-0.045240</td>\n",
       "      <td>-0.000364</td>\n",
       "      <td>0.02240</td>\n",
       "      <td>0.01340</td>\n",
       "      <td>0.0212</td>\n",
       "    </tr>\n",
       "    <tr>\n",
       "      <th>3</th>\n",
       "      <td>1992.5038</td>\n",
       "      <td>0.037525</td>\n",
       "      <td>-0.022475</td>\n",
       "      <td>0.006226</td>\n",
       "      <td>0.01950</td>\n",
       "      <td>0.01180</td>\n",
       "      <td>0.0184</td>\n",
       "    </tr>\n",
       "    <tr>\n",
       "      <th>4</th>\n",
       "      <td>1992.5065</td>\n",
       "      <td>0.040887</td>\n",
       "      <td>-0.040527</td>\n",
       "      <td>0.009022</td>\n",
       "      <td>0.02450</td>\n",
       "      <td>0.01280</td>\n",
       "      <td>0.0244</td>\n",
       "    </tr>\n",
       "    <tr>\n",
       "      <th>...</th>\n",
       "      <td>...</td>\n",
       "      <td>...</td>\n",
       "      <td>...</td>\n",
       "      <td>...</td>\n",
       "      <td>...</td>\n",
       "      <td>...</td>\n",
       "      <td>...</td>\n",
       "    </tr>\n",
       "    <tr>\n",
       "      <th>5287</th>\n",
       "      <td>2008.9802</td>\n",
       "      <td>0.562757</td>\n",
       "      <td>-0.459954</td>\n",
       "      <td>0.006077</td>\n",
       "      <td>0.00360</td>\n",
       "      <td>0.00290</td>\n",
       "      <td>0.0038</td>\n",
       "    </tr>\n",
       "    <tr>\n",
       "      <th>5288</th>\n",
       "      <td>2008.9829</td>\n",
       "      <td>0.561122</td>\n",
       "      <td>-0.461525</td>\n",
       "      <td>0.013030</td>\n",
       "      <td>0.00365</td>\n",
       "      <td>0.00285</td>\n",
       "      <td>0.0040</td>\n",
       "    </tr>\n",
       "    <tr>\n",
       "      <th>5289</th>\n",
       "      <td>2008.9856</td>\n",
       "      <td>0.561914</td>\n",
       "      <td>-0.462593</td>\n",
       "      <td>0.007390</td>\n",
       "      <td>0.00340</td>\n",
       "      <td>0.00285</td>\n",
       "      <td>0.0038</td>\n",
       "    </tr>\n",
       "    <tr>\n",
       "      <th>5290</th>\n",
       "      <td>2008.9884</td>\n",
       "      <td>0.562673</td>\n",
       "      <td>-0.458553</td>\n",
       "      <td>0.007888</td>\n",
       "      <td>0.00390</td>\n",
       "      <td>0.00330</td>\n",
       "      <td>0.0044</td>\n",
       "    </tr>\n",
       "    <tr>\n",
       "      <th>5291</th>\n",
       "      <td>2008.9911</td>\n",
       "      <td>0.561355</td>\n",
       "      <td>-0.464422</td>\n",
       "      <td>0.012526</td>\n",
       "      <td>0.00330</td>\n",
       "      <td>0.00280</td>\n",
       "      <td>0.0040</td>\n",
       "    </tr>\n",
       "  </tbody>\n",
       "</table>\n",
       "<p>5292 rows × 7 columns</p>\n",
       "</div>"
      ],
      "text/plain": [
       "           date        un        ue        uz       sn       se      sz\n",
       "0     1992.4901  0.047245 -0.036244  0.007827  0.01520  0.00910  0.0157\n",
       "1     1992.4956  0.048823 -0.022145 -0.009830  0.01925  0.01330  0.0201\n",
       "2     1992.5010  0.058418 -0.045240 -0.000364  0.02240  0.01340  0.0212\n",
       "3     1992.5038  0.037525 -0.022475  0.006226  0.01950  0.01180  0.0184\n",
       "4     1992.5065  0.040887 -0.040527  0.009022  0.02450  0.01280  0.0244\n",
       "...         ...       ...       ...       ...      ...      ...     ...\n",
       "5287  2008.9802  0.562757 -0.459954  0.006077  0.00360  0.00290  0.0038\n",
       "5288  2008.9829  0.561122 -0.461525  0.013030  0.00365  0.00285  0.0040\n",
       "5289  2008.9856  0.561914 -0.462593  0.007390  0.00340  0.00285  0.0038\n",
       "5290  2008.9884  0.562673 -0.458553  0.007888  0.00390  0.00330  0.0044\n",
       "5291  2008.9911  0.561355 -0.464422  0.012526  0.00330  0.00280  0.0040\n",
       "\n",
       "[5292 rows x 7 columns]"
      ]
     },
     "execution_count": 34,
     "metadata": {},
     "output_type": "execute_result"
    }
   ],
   "source": [
    "df"
   ]
  },
  {
   "cell_type": "markdown",
   "id": "432bb969",
   "metadata": {},
   "source": [
    "### Graphing deltas "
   ]
  },
  {
   "cell_type": "code",
   "execution_count": null,
   "id": "71ea4da0",
   "metadata": {},
   "outputs": [],
   "source": [
    "sns.lineplot(x = \"date\", y = \"un\", data = df)"
   ]
  },
  {
   "cell_type": "code",
   "execution_count": null,
   "id": "c7233ae8",
   "metadata": {},
   "outputs": [],
   "source": [
    "sns.lineplot(x = \"date\", y = \"ue\", data = df)"
   ]
  },
  {
   "cell_type": "code",
   "execution_count": null,
   "id": "358ab174",
   "metadata": {},
   "outputs": [],
   "source": [
    "sns.lineplot(x = \"date\", y = \"uz\", data = df)"
   ]
  },
  {
   "cell_type": "markdown",
   "id": "0de1f609",
   "metadata": {},
   "source": [
    "### Isolating one offset and viewing it in three directions"
   ]
  },
  {
   "cell_type": "code",
   "execution_count": null,
   "id": "5e3f41f7",
   "metadata": {},
   "outputs": [],
   "source": [
    "sns.lineplot(x = \"date\", y = \"uz\", data = df.iloc[1000:1100, :]) #Direction where the offset is clear"
   ]
  },
  {
   "cell_type": "code",
   "execution_count": null,
   "id": "08b8d3e6",
   "metadata": {},
   "outputs": [],
   "source": [
    "sns.lineplot(x = \"date\", y = \"un\", data = df.iloc[1000:1100, :])"
   ]
  },
  {
   "cell_type": "code",
   "execution_count": null,
   "id": "9d648376",
   "metadata": {},
   "outputs": [],
   "source": [
    "sns.lineplot(x = \"date\", y = \"ue\", data = df.iloc[1000:1100, :])"
   ]
  },
  {
   "cell_type": "markdown",
   "id": "a855b687",
   "metadata": {},
   "source": [
    "### Graphing Standard Deviations in three directions"
   ]
  },
  {
   "cell_type": "code",
   "execution_count": null,
   "id": "dc5e5363",
   "metadata": {},
   "outputs": [],
   "source": [
    "sns.lineplot(x = \"date\", y = \"sn\", data = df)"
   ]
  },
  {
   "cell_type": "code",
   "execution_count": null,
   "id": "33a99219",
   "metadata": {},
   "outputs": [],
   "source": [
    "sns.lineplot(x = \"date\", y = \"se\", data = df)"
   ]
  },
  {
   "cell_type": "code",
   "execution_count": null,
   "id": "29b3a965",
   "metadata": {},
   "outputs": [],
   "source": [
    "sns.lineplot(x = \"date\", y = \"sz\", data = df)"
   ]
  },
  {
   "cell_type": "code",
   "execution_count": 38,
   "id": "9cbe1d51",
   "metadata": {},
   "outputs": [],
   "source": [
    "df.iloc[:, 0:2].to_csv('../LSTMAutoencoding/ajgj_un.csv')"
   ]
  },
  {
   "cell_type": "code",
   "execution_count": 39,
   "id": "b8a96d61",
   "metadata": {},
   "outputs": [],
   "source": [
    "df.drop(['un', 'ue', 'sn', 'se', 'sz'], axis=1).to_csv('../LSTMAutoencoding/ajgj_uz.csv')"
   ]
  },
  {
   "cell_type": "code",
   "execution_count": null,
   "id": "04e73871",
   "metadata": {},
   "outputs": [],
   "source": []
  }
 ],
 "metadata": {
  "kernelspec": {
   "display_name": "Python 3 (ipykernel)",
   "language": "python",
   "name": "python3"
  },
  "language_info": {
   "codemirror_mode": {
    "name": "ipython",
    "version": 3
   },
   "file_extension": ".py",
   "mimetype": "text/x-python",
   "name": "python",
   "nbconvert_exporter": "python",
   "pygments_lexer": "ipython3",
   "version": "3.8.13"
  }
 },
 "nbformat": 4,
 "nbformat_minor": 5
}

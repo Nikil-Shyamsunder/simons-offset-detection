{
 "cells": [
  {
   "cell_type": "code",
   "execution_count": 1,
   "id": "368c301d",
   "metadata": {},
   "outputs": [],
   "source": [
    "import numpy as np\n",
    "import time\n",
    "import matplotlib.pyplot as plt\n",
    "from sklearn.preprocessing import MinMaxScaler, StandardScaler\n",
    "from sklearn.metrics import accuracy_score, confusion_matrix, classification_report"
   ]
  },
  {
   "cell_type": "markdown",
   "id": "cc41143e",
   "metadata": {},
   "source": [
    "# Import data"
   ]
  },
  {
   "cell_type": "code",
   "execution_count": 2,
   "id": "ec97fd54",
   "metadata": {},
   "outputs": [],
   "source": [
    "X_train = np.genfromtxt('sliced_data/X_train.csv', delimiter=',')\n",
    "y_train = np.genfromtxt('sliced_data/y_train.csv', delimiter=',')\n",
    "X_test = np.genfromtxt('sliced_data/X_test.csv', delimiter=',')\n",
    "y_test = np.genfromtxt('sliced_data/y_test.csv', delimiter=',')\n",
    "X_val = np.genfromtxt('sliced_data/X_val.csv', delimiter=',')\n",
    "y_val = np.genfromtxt('sliced_data/y_val.csv', delimiter=',')"
   ]
  },
  {
   "cell_type": "markdown",
   "id": "b3f38314",
   "metadata": {},
   "source": [
    "# Scale Data"
   ]
  },
  {
   "cell_type": "markdown",
   "id": "738ee001",
   "metadata": {},
   "source": [
    "## Min Max Scaler"
   ]
  },
  {
   "cell_type": "code",
   "execution_count": 3,
   "id": "a75ebc29",
   "metadata": {},
   "outputs": [],
   "source": [
    "scaler = MinMaxScaler()\n",
    "\n",
    "i = 0\n",
    "while i < X_train.shape[0]:\n",
    "    X_train[i] = scaler.fit_transform(X_train[i].reshape(-1, 1)).reshape(40, )\n",
    "    i += 1\n",
    "    \n",
    "i = 0\n",
    "while i < X_test.shape[0]:\n",
    "    X_test[i] = scaler.fit_transform(X_test[i].reshape(-1, 1)).reshape(40, )\n",
    "    i += 1"
   ]
  },
  {
   "cell_type": "markdown",
   "id": "9a13dc83",
   "metadata": {},
   "source": [
    "# Standard Scaler"
   ]
  },
  {
   "cell_type": "code",
   "execution_count": 3,
   "id": "fa0ab24a",
   "metadata": {},
   "outputs": [],
   "source": [
    "scaler = StandardScaler()\n",
    "\n",
    "i = 0\n",
    "while i < X_train.shape[0]:\n",
    "    X_train[i] = scaler.fit_transform(X_train[i].reshape(-1, 1)).reshape(40, )\n",
    "    i += 1\n",
    "    \n",
    "i = 0\n",
    "while i < X_test.shape[0]:\n",
    "    X_test[i] = scaler.fit_transform(X_test[i].reshape(-1, 1)).reshape(40, )\n",
    "    i += 1"
   ]
  },
  {
   "cell_type": "markdown",
   "id": "c8be781c",
   "metadata": {},
   "source": [
    "# Time Series Forest clf"
   ]
  },
  {
   "cell_type": "code",
   "execution_count": 11,
   "id": "8b3a5091",
   "metadata": {},
   "outputs": [
    {
     "data": {
      "text/plain": [
       "0.5996152201795639"
      ]
     },
     "execution_count": 11,
     "metadata": {},
     "output_type": "execute_result"
    }
   ],
   "source": [
    "from sktime.classification.interval_based import TimeSeriesForestClassifier\n",
    "from sklearn.metrics import accuracy_score\n",
    "clf = TimeSeriesForestClassifier()\n",
    "clf.fit(X_train, y_train)\n",
    "y_pred = clf.predict(X_test)\n",
    "accuracy_score(y_test, y_pred)"
   ]
  },
  {
   "cell_type": "markdown",
   "id": "447007fe",
   "metadata": {},
   "source": [
    "# Rocket clf"
   ]
  },
  {
   "cell_type": "code",
   "execution_count": 4,
   "id": "7c036b8e",
   "metadata": {},
   "outputs": [
    {
     "name": "stderr",
     "output_type": "stream",
     "text": [
      "OMP: Info #276: omp_set_nested routine deprecated, please use omp_set_max_active_levels instead.\n"
     ]
    },
    {
     "name": "stdout",
     "output_type": "stream",
     "text": [
      "1698.829479932785\n"
     ]
    }
   ],
   "source": [
    "from sktime.classification.kernel_based import RocketClassifier\n",
    "start = time.time()\n",
    "clf = RocketClassifier()\n",
    "clf.fit(X_train, y_train)\n",
    "end = time.time()\n",
    "print(end - start)"
   ]
  },
  {
   "cell_type": "code",
   "execution_count": 5,
   "id": "7d45a159",
   "metadata": {},
   "outputs": [
    {
     "name": "stdout",
     "output_type": "stream",
     "text": [
      "test accuracy: 0.7063916203505771\n",
      "val accuracy: 0.7542450665442864\n",
      "              precision    recall  f1-score   support\n",
      "\n",
      "         0.0       0.63      1.00      0.77      9356\n",
      "         1.0       1.00      0.41      0.58      9356\n",
      "\n",
      "    accuracy                           0.71     18712\n",
      "   macro avg       0.82      0.71      0.68     18712\n",
      "weighted avg       0.82      0.71      0.68     18712\n",
      "\n"
     ]
    }
   ],
   "source": [
    "y_pred = clf.predict(X_test)\n",
    "print('test accuracy:', accuracy_score(y_test, y_pred))\n",
    "\n",
    "val_pred = clf.predict(X_val)\n",
    "print('val accuracy:', accuracy_score(y_val, val_pred))\n",
    "\n",
    "print(classification_report(y_test, y_pred))"
   ]
  },
  {
   "cell_type": "markdown",
   "id": "3c560c6c",
   "metadata": {},
   "source": [
    "# Hive COTE clf"
   ]
  },
  {
   "cell_type": "code",
   "execution_count": 29,
   "id": "c87845b8",
   "metadata": {},
   "outputs": [],
   "source": [
    "from sktime.classification.hybrid import HIVECOTEV2\n",
    "from sktime._contrib.vector_classifiers._rotation_forest import RotationForest\n",
    "hive_clf = HIVECOTEV2(\n",
    "    stc_params={\n",
    "        \"estimator\": RotationForest(n_estimators=3),\n",
    "        \"n_shapelet_samples\": 100,\n",
    "        \"max_shapelets\": 10,\n",
    "        \"batch_size\": 20,\n",
    "    },\n",
    "\n",
    "    drcif_params={\"n_estimators\": 2, \"n_intervals\": 2, \"att_subsample_size\": 2},\n",
    "    arsenal_params={\"num_kernels\": 50, \"n_estimators\": 3},\n",
    "    tde_params={\n",
    "        \"n_parameter_samples\": 10,\n",
    "        \"max_ensemble_size\": 3,\n",
    "        \"randomly_selected_params\": 5,\n",
    "    },\n",
    ")"
   ]
  },
  {
   "cell_type": "code",
   "execution_count": null,
   "id": "bdf3e89e",
   "metadata": {},
   "outputs": [],
   "source": [
    "start = time.time()\n",
    "hive_clf.fit(X_train, y_train)\n",
    "end = time.time()\n",
    "print(end - start)"
   ]
  },
  {
   "cell_type": "code",
   "execution_count": null,
   "id": "e684497f",
   "metadata": {},
   "outputs": [],
   "source": []
  }
 ],
 "metadata": {
  "kernelspec": {
   "display_name": "Python [conda env:root] *",
   "language": "python",
   "name": "conda-root-py"
  },
  "language_info": {
   "codemirror_mode": {
    "name": "ipython",
    "version": 3
   },
   "file_extension": ".py",
   "mimetype": "text/x-python",
   "name": "python",
   "nbconvert_exporter": "python",
   "pygments_lexer": "ipython3",
   "version": "3.8.13"
  }
 },
 "nbformat": 4,
 "nbformat_minor": 5
}

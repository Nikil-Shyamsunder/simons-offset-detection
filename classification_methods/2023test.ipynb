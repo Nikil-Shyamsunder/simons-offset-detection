{
 "cells": [
  {
   "cell_type": "code",
   "execution_count": 3,
   "id": "8d79e721",
   "metadata": {},
   "outputs": [],
   "source": [
    "import numpy as np\n",
    "import time\n",
    "import matplotlib.pyplot as plt\n",
    "from sklearn.preprocessing import MinMaxScaler, StandardScaler\n",
    "from sklearn.metrics import accuracy_score, confusion_matrix, classification_report\n",
    "import pickle\n",
    "import os\n",
    "import pandas as pd\n",
    "import seaborn as sns\n",
    "import random"
   ]
  },
  {
   "cell_type": "code",
   "execution_count": 2,
   "id": "61b8d24f",
   "metadata": {},
   "outputs": [],
   "source": [
    "X_train = np.genfromtxt('sliced_data/window-200-step-10/combined/X_train.csv', delimiter=',')\n",
    "y_train = np.genfromtxt('sliced_data/window-200-step-10/combined/y_train.csv', delimiter=',')\n",
    "X_test = np.genfromtxt('sliced_data/window-200-step-10/combined/X_test.csv', delimiter=',')\n",
    "y_test = np.genfromtxt('sliced_data/window-200-step-10/combined/y_test.csv', delimiter=',')\n",
    "X_val = np.genfromtxt('sliced_data/window-200-step-10/combined/X_val.csv', delimiter=',')\n",
    "y_val = np.genfromtxt('sliced_data/window-200-step-10/combined/y_val.csv', delimiter=',')"
   ]
  },
  {
   "cell_type": "code",
   "execution_count": 3,
   "id": "e9ced971",
   "metadata": {},
   "outputs": [
    {
     "name": "stderr",
     "output_type": "stream",
     "text": [
      "OMP: Info #276: omp_set_nested routine deprecated, please use omp_set_max_active_levels instead.\n"
     ]
    }
   ],
   "source": [
    "scaler = MinMaxScaler()\n",
    "\n",
    "with open('r_clf_best.sav', 'rb') as f:\n",
    "    clf = pickle.load(f)\n",
    "    \n",
    "meta = pd.read_csv('../Artificial_data/DOGEx_v1/synthetic-meta.txt', sep=',', header=None)\n",
    "meta.columns = ['station', 'direction', 'date']\n",
    "z_meta = meta[meta.direction == 'Z']"
   ]
  },
  {
   "cell_type": "code",
   "execution_count": 4,
   "id": "d0120576",
   "metadata": {},
   "outputs": [
    {
     "data": {
      "text/plain": [
       "(1, 200)"
      ]
     },
     "execution_count": 4,
     "metadata": {},
     "output_type": "execute_result"
    }
   ],
   "source": [
    "X_test[0:1,:].shape"
   ]
  },
  {
   "cell_type": "code",
   "execution_count": 5,
   "id": "38cadfe0",
   "metadata": {},
   "outputs": [],
   "source": [
    "y_pred = clf.predict(X_test[0:1,:])"
   ]
  },
  {
   "cell_type": "code",
   "execution_count": 6,
   "id": "b9fd84f6",
   "metadata": {},
   "outputs": [
    {
     "data": {
      "text/plain": [
       "(1,)"
      ]
     },
     "execution_count": 6,
     "metadata": {},
     "output_type": "execute_result"
    }
   ],
   "source": [
    "y_test[0:1].shape"
   ]
  },
  {
   "cell_type": "code",
   "execution_count": 7,
   "id": "912f3a61",
   "metadata": {},
   "outputs": [
    {
     "name": "stdout",
     "output_type": "stream",
     "text": [
      "              precision    recall  f1-score   support\n",
      "\n",
      "         0.0       1.00      1.00      1.00         1\n",
      "\n",
      "    accuracy                           1.00         1\n",
      "   macro avg       1.00      1.00      1.00         1\n",
      "weighted avg       1.00      1.00      1.00         1\n",
      "\n"
     ]
    },
    {
     "data": {
      "text/plain": [
       "array([[1]])"
      ]
     },
     "execution_count": 7,
     "metadata": {},
     "output_type": "execute_result"
    }
   ],
   "source": [
    "print(classification_report(y_test[0:1], y_pred))\n",
    "confusion_matrix(y_test[0:1], y_pred)"
   ]
  },
  {
   "cell_type": "code",
   "execution_count": 8,
   "id": "23fe0339",
   "metadata": {},
   "outputs": [
    {
     "data": {
      "text/plain": [
       "array([0.])"
      ]
     },
     "execution_count": 8,
     "metadata": {},
     "output_type": "execute_result"
    }
   ],
   "source": [
    "clf.predict(X_test[0:1])"
   ]
  },
  {
   "cell_type": "markdown",
   "id": "d09b4560",
   "metadata": {},
   "source": [
    "# Using real dataset on 7ODM"
   ]
  },
  {
   "cell_type": "code",
   "execution_count": 123,
   "id": "a7363a82",
   "metadata": {},
   "outputs": [
    {
     "data": {
      "text/html": [
       "<div>\n",
       "<style scoped>\n",
       "    .dataframe tbody tr th:only-of-type {\n",
       "        vertical-align: middle;\n",
       "    }\n",
       "\n",
       "    .dataframe tbody tr th {\n",
       "        vertical-align: top;\n",
       "    }\n",
       "\n",
       "    .dataframe thead th {\n",
       "        text-align: right;\n",
       "    }\n",
       "</style>\n",
       "<table border=\"1\" class=\"dataframe\">\n",
       "  <thead>\n",
       "    <tr style=\"text-align: right;\">\n",
       "      <th></th>\n",
       "      <th>site</th>\n",
       "      <th>YYMMMDD</th>\n",
       "      <th>yyyy.yyyy</th>\n",
       "      <th>__MJD</th>\n",
       "      <th>week</th>\n",
       "      <th>d</th>\n",
       "      <th>reflon</th>\n",
       "      <th>_e0(m)</th>\n",
       "      <th>__east(m)</th>\n",
       "      <th>____n0(m)</th>\n",
       "      <th>_north(m)</th>\n",
       "      <th>u0(m)</th>\n",
       "      <th>____up(m)</th>\n",
       "      <th>_ant(m)</th>\n",
       "      <th>sig_e(m)</th>\n",
       "      <th>sig_n(m)</th>\n",
       "      <th>sig_u(m)</th>\n",
       "      <th>__corr_en</th>\n",
       "      <th>__corr_eu</th>\n",
       "      <th>__corr_nu</th>\n",
       "    </tr>\n",
       "  </thead>\n",
       "  <tbody>\n",
       "    <tr>\n",
       "      <th>0</th>\n",
       "      <td>7ODM</td>\n",
       "      <td>01APR20</td>\n",
       "      <td>2001.3005</td>\n",
       "      <td>52019</td>\n",
       "      <td>1110</td>\n",
       "      <td>5</td>\n",
       "      <td>-117.1</td>\n",
       "      <td>628</td>\n",
       "      <td>0.084091</td>\n",
       "      <td>3776573</td>\n",
       "      <td>0.697518</td>\n",
       "      <td>762</td>\n",
       "      <td>0.071883</td>\n",
       "      <td>0.0083</td>\n",
       "      <td>0.000892</td>\n",
       "      <td>0.001017</td>\n",
       "      <td>0.004000</td>\n",
       "      <td>-0.100505</td>\n",
       "      <td>-0.267313</td>\n",
       "      <td>0.097294</td>\n",
       "    </tr>\n",
       "    <tr>\n",
       "      <th>1</th>\n",
       "      <td>7ODM</td>\n",
       "      <td>01APR21</td>\n",
       "      <td>2001.3032</td>\n",
       "      <td>52020</td>\n",
       "      <td>1110</td>\n",
       "      <td>6</td>\n",
       "      <td>-117.1</td>\n",
       "      <td>628</td>\n",
       "      <td>0.086470</td>\n",
       "      <td>3776573</td>\n",
       "      <td>0.698739</td>\n",
       "      <td>762</td>\n",
       "      <td>0.068410</td>\n",
       "      <td>0.0083</td>\n",
       "      <td>0.000930</td>\n",
       "      <td>0.001035</td>\n",
       "      <td>0.003984</td>\n",
       "      <td>-0.108289</td>\n",
       "      <td>-0.229542</td>\n",
       "      <td>0.066488</td>\n",
       "    </tr>\n",
       "    <tr>\n",
       "      <th>2</th>\n",
       "      <td>7ODM</td>\n",
       "      <td>01APR22</td>\n",
       "      <td>2001.3060</td>\n",
       "      <td>52021</td>\n",
       "      <td>1111</td>\n",
       "      <td>0</td>\n",
       "      <td>-117.1</td>\n",
       "      <td>628</td>\n",
       "      <td>0.087425</td>\n",
       "      <td>3776573</td>\n",
       "      <td>0.700625</td>\n",
       "      <td>762</td>\n",
       "      <td>0.054435</td>\n",
       "      <td>0.0083</td>\n",
       "      <td>0.000943</td>\n",
       "      <td>0.001084</td>\n",
       "      <td>0.004008</td>\n",
       "      <td>-0.080530</td>\n",
       "      <td>-0.260986</td>\n",
       "      <td>0.076587</td>\n",
       "    </tr>\n",
       "    <tr>\n",
       "      <th>3</th>\n",
       "      <td>7ODM</td>\n",
       "      <td>01JUN03</td>\n",
       "      <td>2001.4209</td>\n",
       "      <td>52063</td>\n",
       "      <td>1117</td>\n",
       "      <td>0</td>\n",
       "      <td>-117.1</td>\n",
       "      <td>628</td>\n",
       "      <td>0.080423</td>\n",
       "      <td>3776573</td>\n",
       "      <td>0.697773</td>\n",
       "      <td>762</td>\n",
       "      <td>0.071509</td>\n",
       "      <td>0.0083</td>\n",
       "      <td>0.000877</td>\n",
       "      <td>0.001022</td>\n",
       "      <td>0.003857</td>\n",
       "      <td>-0.128355</td>\n",
       "      <td>-0.259917</td>\n",
       "      <td>0.044449</td>\n",
       "    </tr>\n",
       "    <tr>\n",
       "      <th>4</th>\n",
       "      <td>7ODM</td>\n",
       "      <td>01JUN04</td>\n",
       "      <td>2001.4237</td>\n",
       "      <td>52064</td>\n",
       "      <td>1117</td>\n",
       "      <td>1</td>\n",
       "      <td>-117.1</td>\n",
       "      <td>628</td>\n",
       "      <td>0.081143</td>\n",
       "      <td>3776573</td>\n",
       "      <td>0.698180</td>\n",
       "      <td>762</td>\n",
       "      <td>0.069169</td>\n",
       "      <td>0.0083</td>\n",
       "      <td>0.000893</td>\n",
       "      <td>0.001044</td>\n",
       "      <td>0.003811</td>\n",
       "      <td>-0.101738</td>\n",
       "      <td>-0.260853</td>\n",
       "      <td>0.039822</td>\n",
       "    </tr>\n",
       "  </tbody>\n",
       "</table>\n",
       "</div>"
      ],
      "text/plain": [
       "   site  YYMMMDD  yyyy.yyyy  __MJD  week  d  reflon  _e0(m)  __east(m)  \\\n",
       "0  7ODM  01APR20  2001.3005  52019  1110  5  -117.1     628   0.084091   \n",
       "1  7ODM  01APR21  2001.3032  52020  1110  6  -117.1     628   0.086470   \n",
       "2  7ODM  01APR22  2001.3060  52021  1111  0  -117.1     628   0.087425   \n",
       "3  7ODM  01JUN03  2001.4209  52063  1117  0  -117.1     628   0.080423   \n",
       "4  7ODM  01JUN04  2001.4237  52064  1117  1  -117.1     628   0.081143   \n",
       "\n",
       "   ____n0(m)  _north(m)  u0(m)  ____up(m)  _ant(m)  sig_e(m)  sig_n(m)  \\\n",
       "0    3776573   0.697518    762   0.071883   0.0083  0.000892  0.001017   \n",
       "1    3776573   0.698739    762   0.068410   0.0083  0.000930  0.001035   \n",
       "2    3776573   0.700625    762   0.054435   0.0083  0.000943  0.001084   \n",
       "3    3776573   0.697773    762   0.071509   0.0083  0.000877  0.001022   \n",
       "4    3776573   0.698180    762   0.069169   0.0083  0.000893  0.001044   \n",
       "\n",
       "   sig_u(m)  __corr_en  __corr_eu  __corr_nu  \n",
       "0  0.004000  -0.100505  -0.267313   0.097294  \n",
       "1  0.003984  -0.108289  -0.229542   0.066488  \n",
       "2  0.004008  -0.080530  -0.260986   0.076587  \n",
       "3  0.003857  -0.128355  -0.259917   0.044449  \n",
       "4  0.003811  -0.101738  -0.260853   0.039822  "
      ]
     },
     "execution_count": 123,
     "metadata": {},
     "output_type": "execute_result"
    }
   ],
   "source": [
    "df = pd.read_csv('../real_data/7ODM.csv')\n",
    "df.head()"
   ]
  },
  {
   "cell_type": "code",
   "execution_count": 124,
   "id": "c14e8bb4",
   "metadata": {},
   "outputs": [],
   "source": [
    "df.drop(['site', 'YYMMMDD', '__MJD', 'week', 'd', 'reflon', '_e0(m)', '____n0(m)', 'u0(m)', '_ant(m)', 'sig_e(m)', 'sig_n(m)', 'sig_u(m)', '__corr_en', '__corr_eu', '__corr_nu'], axis=1, inplace=True)"
   ]
  },
  {
   "cell_type": "code",
   "execution_count": 125,
   "id": "9e46fa79",
   "metadata": {},
   "outputs": [
    {
     "data": {
      "text/html": [
       "<div>\n",
       "<style scoped>\n",
       "    .dataframe tbody tr th:only-of-type {\n",
       "        vertical-align: middle;\n",
       "    }\n",
       "\n",
       "    .dataframe tbody tr th {\n",
       "        vertical-align: top;\n",
       "    }\n",
       "\n",
       "    .dataframe thead th {\n",
       "        text-align: right;\n",
       "    }\n",
       "</style>\n",
       "<table border=\"1\" class=\"dataframe\">\n",
       "  <thead>\n",
       "    <tr style=\"text-align: right;\">\n",
       "      <th></th>\n",
       "      <th>yyyy.yyyy</th>\n",
       "      <th>__east(m)</th>\n",
       "      <th>_north(m)</th>\n",
       "      <th>____up(m)</th>\n",
       "    </tr>\n",
       "  </thead>\n",
       "  <tbody>\n",
       "    <tr>\n",
       "      <th>0</th>\n",
       "      <td>2001.3005</td>\n",
       "      <td>0.084091</td>\n",
       "      <td>0.697518</td>\n",
       "      <td>0.071883</td>\n",
       "    </tr>\n",
       "    <tr>\n",
       "      <th>1</th>\n",
       "      <td>2001.3032</td>\n",
       "      <td>0.086470</td>\n",
       "      <td>0.698739</td>\n",
       "      <td>0.068410</td>\n",
       "    </tr>\n",
       "    <tr>\n",
       "      <th>2</th>\n",
       "      <td>2001.3060</td>\n",
       "      <td>0.087425</td>\n",
       "      <td>0.700625</td>\n",
       "      <td>0.054435</td>\n",
       "    </tr>\n",
       "    <tr>\n",
       "      <th>3</th>\n",
       "      <td>2001.4209</td>\n",
       "      <td>0.080423</td>\n",
       "      <td>0.697773</td>\n",
       "      <td>0.071509</td>\n",
       "    </tr>\n",
       "    <tr>\n",
       "      <th>4</th>\n",
       "      <td>2001.4237</td>\n",
       "      <td>0.081143</td>\n",
       "      <td>0.698180</td>\n",
       "      <td>0.069169</td>\n",
       "    </tr>\n",
       "  </tbody>\n",
       "</table>\n",
       "</div>"
      ],
      "text/plain": [
       "   yyyy.yyyy  __east(m)  _north(m)  ____up(m)\n",
       "0  2001.3005   0.084091   0.697518   0.071883\n",
       "1  2001.3032   0.086470   0.698739   0.068410\n",
       "2  2001.3060   0.087425   0.700625   0.054435\n",
       "3  2001.4209   0.080423   0.697773   0.071509\n",
       "4  2001.4237   0.081143   0.698180   0.069169"
      ]
     },
     "execution_count": 125,
     "metadata": {},
     "output_type": "execute_result"
    }
   ],
   "source": [
    "df.head()"
   ]
  },
  {
   "cell_type": "code",
   "execution_count": 126,
   "id": "8112f0b3",
   "metadata": {},
   "outputs": [],
   "source": [
    "df.columns = ['date', 'un', 'ue', 'uz']"
   ]
  },
  {
   "cell_type": "code",
   "execution_count": 127,
   "id": "f99460bd",
   "metadata": {},
   "outputs": [],
   "source": [
    "df = df[['date','un']]"
   ]
  },
  {
   "cell_type": "code",
   "execution_count": 128,
   "id": "5353d0c1",
   "metadata": {},
   "outputs": [],
   "source": [
    "un_scaled = scaler.fit_transform(df['un'].to_numpy().reshape(-1, 1))"
   ]
  },
  {
   "cell_type": "code",
   "execution_count": 129,
   "id": "ce3ab061",
   "metadata": {},
   "outputs": [],
   "source": [
    "df['un'] = un_scaled"
   ]
  },
  {
   "cell_type": "code",
   "execution_count": 130,
   "id": "45100170",
   "metadata": {},
   "outputs": [
    {
     "data": {
      "text/html": [
       "<div>\n",
       "<style scoped>\n",
       "    .dataframe tbody tr th:only-of-type {\n",
       "        vertical-align: middle;\n",
       "    }\n",
       "\n",
       "    .dataframe tbody tr th {\n",
       "        vertical-align: top;\n",
       "    }\n",
       "\n",
       "    .dataframe thead th {\n",
       "        text-align: right;\n",
       "    }\n",
       "</style>\n",
       "<table border=\"1\" class=\"dataframe\">\n",
       "  <thead>\n",
       "    <tr style=\"text-align: right;\">\n",
       "      <th></th>\n",
       "      <th>date</th>\n",
       "      <th>un</th>\n",
       "    </tr>\n",
       "  </thead>\n",
       "  <tbody>\n",
       "    <tr>\n",
       "      <th>0</th>\n",
       "      <td>2001.3005</td>\n",
       "      <td>0.987628</td>\n",
       "    </tr>\n",
       "    <tr>\n",
       "      <th>1</th>\n",
       "      <td>2001.3032</td>\n",
       "      <td>0.992207</td>\n",
       "    </tr>\n",
       "    <tr>\n",
       "      <th>2</th>\n",
       "      <td>2001.3060</td>\n",
       "      <td>0.994045</td>\n",
       "    </tr>\n",
       "    <tr>\n",
       "      <th>3</th>\n",
       "      <td>2001.4209</td>\n",
       "      <td>0.980569</td>\n",
       "    </tr>\n",
       "    <tr>\n",
       "      <th>4</th>\n",
       "      <td>2001.4237</td>\n",
       "      <td>0.981955</td>\n",
       "    </tr>\n",
       "    <tr>\n",
       "      <th>...</th>\n",
       "      <td>...</td>\n",
       "      <td>...</td>\n",
       "    </tr>\n",
       "    <tr>\n",
       "      <th>5926</th>\n",
       "      <td>2021.1581</td>\n",
       "      <td>0.003164</td>\n",
       "    </tr>\n",
       "    <tr>\n",
       "      <th>5927</th>\n",
       "      <td>2021.1608</td>\n",
       "      <td>0.004394</td>\n",
       "    </tr>\n",
       "    <tr>\n",
       "      <th>5928</th>\n",
       "      <td>2021.1636</td>\n",
       "      <td>0.003274</td>\n",
       "    </tr>\n",
       "    <tr>\n",
       "      <th>5929</th>\n",
       "      <td>2021.1663</td>\n",
       "      <td>0.003564</td>\n",
       "    </tr>\n",
       "    <tr>\n",
       "      <th>5930</th>\n",
       "      <td>2021.1691</td>\n",
       "      <td>0.000000</td>\n",
       "    </tr>\n",
       "  </tbody>\n",
       "</table>\n",
       "<p>5931 rows × 2 columns</p>\n",
       "</div>"
      ],
      "text/plain": [
       "           date        un\n",
       "0     2001.3005  0.987628\n",
       "1     2001.3032  0.992207\n",
       "2     2001.3060  0.994045\n",
       "3     2001.4209  0.980569\n",
       "4     2001.4237  0.981955\n",
       "...         ...       ...\n",
       "5926  2021.1581  0.003164\n",
       "5927  2021.1608  0.004394\n",
       "5928  2021.1636  0.003274\n",
       "5929  2021.1663  0.003564\n",
       "5930  2021.1691  0.000000\n",
       "\n",
       "[5931 rows x 2 columns]"
      ]
     },
     "execution_count": 130,
     "metadata": {},
     "output_type": "execute_result"
    }
   ],
   "source": [
    "df"
   ]
  },
  {
   "cell_type": "code",
   "execution_count": 131,
   "id": "1c736b19",
   "metadata": {},
   "outputs": [
    {
     "data": {
      "text/plain": [
       "<AxesSubplot:xlabel='date', ylabel='un'>"
      ]
     },
     "execution_count": 131,
     "metadata": {},
     "output_type": "execute_result"
    },
    {
     "data": {
      "image/png": "[encoded data removed]",
      "text/plain": [
       "<Figure size 432x288 with 1 Axes>"
      ]
     },
     "metadata": {
      "needs_background": "light"
     },
     "output_type": "display_data"
    }
   ],
   "source": [
    "sns.lineplot(x = 'date', y = \"un\", data = df)"
   ]
  },
  {
   "cell_type": "code",
   "execution_count": 134,
   "id": "7cdfea1d",
   "metadata": {},
   "outputs": [],
   "source": [
    "meta = pd.read_csv('../real_data/metadata.csv')\n",
    "meta.columns = [\"index\", \"station\", \"yyyy.yyyy\", \"type\", \"description\", \"unknown\", \"magnitude\"]\n",
    "meta.set_index(\"index\", inplace=True)\n",
    "offset_dates = meta[meta.station==\"7ODM\"][\"yyyy.yyyy\"]"
   ]
  },
  {
   "cell_type": "code",
   "execution_count": 167,
   "id": "7ae00103",
   "metadata": {},
   "outputs": [],
   "source": [
    "def generate_visual (station, df):\n",
    "    offset_dates = meta[meta.station==station][\"yyyy.yyyy\"]\n",
    "    window_size = 200\n",
    "    interval_size = 10\n",
    "    pred_dates = []   \n",
    "\n",
    "    i = 0 \n",
    "    while i < df.shape[0] - window_size:\n",
    "        pred = clf.predict(np.array(df.iloc[i:i+window_size]['un']).reshape(1,-1))\n",
    "\n",
    "        if pred == 1:\n",
    "            pred_dates.append(df.iloc[i+int(window_size/2), 0])    \n",
    "\n",
    "        i += interval_size\n",
    "\n",
    "\n",
    "    fig, ax = plt.subplots(figsize=(12, 6))\n",
    "\n",
    "    np.random.seed(42)\n",
    "    x = np.random.rand(150)\n",
    "    plt.plot(df.set_index('date'), label='uz');\n",
    "    plt.xticks(rotation=25);\n",
    "    plt.legend();\n",
    "\n",
    "    ax.vlines(pred_dates, 0, 1, colors='red', alpha=0.3)\n",
    "    ax.vlines(list(offset_dates), 0, 1, colors='black', linewidth=4)"
   ]
  },
  {
   "cell_type": "markdown",
   "id": "45a56cc1",
   "metadata": {},
   "source": [
    "# Using real dataset on random sample of dataset"
   ]
  },
  {
   "cell_type": "code",
   "execution_count": 4,
   "id": "7306d7cd",
   "metadata": {},
   "outputs": [],
   "source": [
    "files = os.listdir('../real_data/csv/')"
   ]
  },
  {
   "cell_type": "code",
   "execution_count": 5,
   "id": "5cde3227",
   "metadata": {},
   "outputs": [],
   "source": [
    "def datavis_func ():\n",
    "    df = pd.read_csv('../real_data/csv/' + files[random.randrange(1, len(files))])\n",
    "    df.drop(['site', 'YYMMMDD', '__MJD', 'week', 'd', 'reflon', '_e0(m)', '____n0(m)', 'u0(m)', '_ant(m)', 'sig_e(m)', 'sig_n(m)', 'sig_u(m)', '__corr_en', '__corr_eu', '__corr_nu'], axis=1, inplace=True)\n",
    "    df.columns = ['date', 'un', 'ue', 'uz']\n",
    "    df = df[['date','un']]\n",
    "    un_scaled = scaler.fit_transform(df['un'].to_numpy().reshape(-1, 1))\n",
    "    df['un'] = un_scaled\n",
    "    \n",
    "    station = files[random.randrange(1, len(files))][0:4]\n",
    "    generate_visual(station, df)"
   ]
  },
  {
   "cell_type": "code",
   "execution_count": 6,
   "id": "c3b92f93",
   "metadata": {},
   "outputs": [
    {
     "ename": "NameError",
     "evalue": "name 'datavis' is not defined",
     "output_type": "error",
     "traceback": [
      "\u001b[0;31m---------------------------------------------------------------------------\u001b[0m",
      "\u001b[0;31mNameError\u001b[0m                                 Traceback (most recent call last)",
      "Input \u001b[0;32mIn [6]\u001b[0m, in \u001b[0;36m<cell line: 1>\u001b[0;34m()\u001b[0m\n\u001b[0;32m----> 1\u001b[0m \u001b[43mdatavis\u001b[49m()\n",
      "\u001b[0;31mNameError\u001b[0m: name 'datavis' is not defined"
     ]
    }
   ],
   "source": [
    "datavis()"
   ]
  },
  {
   "cell_type": "code",
   "execution_count": 189,
   "id": "a35b224c",
   "metadata": {},
   "outputs": [
    {
     "name": "stdout",
     "output_type": "stream",
     "text": [
      "That took 347.3818850517273 seconds\n"
     ]
    },
    {
     "data": {
      "image/png": "[encoded data removed]",
      "text/plain": [
       "<Figure size 864x432 with 1 Axes>"
      ]
     },
     "metadata": {
      "needs_background": "light"
     },
     "output_type": "display_data"
    }
   ],
   "source": [
    "for i in range (1, 2):\n",
    "    starttime = time.time()\n",
    "    datavis_func()\n",
    "    print('That took {} seconds'.format(time.time() - starttime))"
   ]
  },
  {
   "cell_type": "code",
   "execution_count": 190,
   "id": "b2aa82f2",
   "metadata": {},
   "outputs": [],
   "source": [
    "def square_num_func(x):\n",
    "    return x * x"
   ]
  },
  {
   "cell_type": "code",
   "execution_count": 9,
   "id": "e2813cfb",
   "metadata": {},
   "outputs": [],
   "source": [
    "import multiprocessing \n",
    "import real_data_vis_funcs"
   ]
  },
  {
   "cell_type": "code",
   "execution_count": 10,
   "id": "04dce592",
   "metadata": {},
   "outputs": [
    {
     "name": "stderr",
     "output_type": "stream",
     "text": [
      "OMP: Info #276: omp_set_nested routine deprecated, please use omp_set_max_active_levels instead.\n",
      "OMP: Info #276: omp_set_nested routine deprecated, please use omp_set_max_active_levels instead.\n",
      "OMP: Info #276: omp_set_nested routine deprecated, please use omp_set_max_active_levels instead.\n",
      "OMP: Info #276: omp_set_nested routine deprecated, please use omp_set_max_active_levels instead.\n",
      "OMP: Info #276: omp_set_nested routine deprecated, please use omp_set_max_active_levels instead.\n",
      "OMP: Info #276: omp_set_nested routine deprecated, please use omp_set_max_active_levels instead.\n",
      "OMP: Info #276: omp_set_nested routine deprecated, please use omp_set_max_active_levels instead.\n",
      "OMP: Info #276: omp_set_nested routine deprecated, please use omp_set_max_active_levels instead.\n",
      "OMP: Info #276: omp_set_nested routine deprecated, please use omp_set_max_active_levels instead.\n",
      "OMP: Info #276: omp_set_nested routine deprecated, please use omp_set_max_active_levels instead.\n",
      "OMP: Info #276: omp_set_nested routine deprecated, please use omp_set_max_active_levels instead.\n",
      "OMP: Info #276: omp_set_nested routine deprecated, please use omp_set_max_active_levels instead.\n",
      "OMP: Info #276: omp_set_nested routine deprecated, please use omp_set_max_active_levels instead.\n",
      "OMP: Info #276: omp_set_nested routine deprecated, please use omp_set_max_active_levels instead.\n",
      "OMP: Info #276: omp_set_nested routine deprecated, please use omp_set_max_active_levels instead.\n",
      "OMP: Info #276: omp_set_nested routine deprecated, please use omp_set_max_active_levels instead.\n",
      "OMP: Info #276: omp_set_nested routine deprecated, please use omp_set_max_active_levels instead.\n",
      "OMP: Info #276: omp_set_nested routine deprecated, please use omp_set_max_active_levels instead.\n",
      "OMP: Info #276: omp_set_nested routine deprecated, please use omp_set_max_active_levels instead.\n",
      "OMP: Info #276: omp_set_nested routine deprecated, please use omp_set_max_active_levels instead.\n",
      "OMP: Info #276: omp_set_nested routine deprecated, please use omp_set_max_active_levels instead.\n",
      "OMP: Info #276: omp_set_nested routine deprecated, please use omp_set_max_active_levels instead.\n",
      "OMP: Info #276: omp_set_nested routine deprecated, please use omp_set_max_active_levels instead.\n",
      "OMP: Info #276: omp_set_nested routine deprecated, please use omp_set_max_active_levels instead.\n",
      "OMP: Info #276: omp_set_nested routine deprecated, please use omp_set_max_active_levels instead.\n",
      "OMP: Info #276: omp_set_nested routine deprecated, please use omp_set_max_active_levels instead.\n",
      "OMP: Info #276: omp_set_nested routine deprecated, please use omp_set_max_active_levels instead.\n",
      "OMP: Info #276: omp_set_nested routine deprecated, please use omp_set_max_active_levels instead.\n",
      "OMP: Info #276: omp_set_nested routine deprecated, please use omp_set_max_active_levels instead.\n",
      "OMP: Info #276: omp_set_nested routine deprecated, please use omp_set_max_active_levels instead.\n",
      "OMP: Info #276: omp_set_nested routine deprecated, please use omp_set_max_active_levels instead.\n",
      "OMP: Info #276: omp_set_nested routine deprecated, please use omp_set_max_active_levels instead.\n",
      "OMP: Info #276: omp_set_nested routine deprecated, please use omp_set_max_active_levels instead.\n",
      "OMP: Info #276: omp_set_nested routine deprecated, please use omp_set_max_active_levels instead.\n",
      "OMP: Info #276: omp_set_nested routine deprecated, please use omp_set_max_active_levels instead.\n",
      "OMP: Info #276: omp_set_nested routine deprecated, please use omp_set_max_active_levels instead.\n",
      "OMP: Info #276: omp_set_nested routine deprecated, please use omp_set_max_active_levels instead.\n",
      "OMP: Info #276: omp_set_nested routine deprecated, please use omp_set_max_active_levels instead.\n",
      "OMP: Info #276: omp_set_nested routine deprecated, please use omp_set_max_active_levels instead.\n",
      "OMP: Info #276: omp_set_nested routine deprecated, please use omp_set_max_active_levels instead.\n",
      "OMP: Info #276: omp_set_nested routine deprecated, please use omp_set_max_active_levels instead.\n",
      "OMP: Info #276: omp_set_nested routine deprecated, please use omp_set_max_active_levels instead.\n",
      "OMP: Info #276: omp_set_nested routine deprecated, please use omp_set_max_active_levels instead.\n",
      "OMP: Info #276: omp_set_nested routine deprecated, please use omp_set_max_active_levels instead.\n",
      "OMP: Info #276: omp_set_nested routine deprecated, please use omp_set_max_active_levels instead.\n",
      "OMP: Info #276: omp_set_nested routine deprecated, please use omp_set_max_active_levels instead.\n",
      "OMP: Info #276: omp_set_nested routine deprecated, please use omp_set_max_active_levels instead.\n",
      "OMP: Info #276: omp_set_nested routine deprecated, please use omp_set_max_active_levels instead.\n",
      "OMP: Info #276: omp_set_nested routine deprecated, please use omp_set_max_active_levels instead.\n",
      "OMP: Info #276: omp_set_nested routine deprecated, please use omp_set_max_active_levels instead.\n"
     ]
    },
    {
     "name": "stdout",
     "output_type": "stream",
     "text": [
      "That took 3117.913690805435 seconds\n"
     ]
    }
   ],
   "source": [
    "starttime = time.time()\n",
    "processes = []\n",
    "for i in range(0,50):\n",
    "    p = multiprocessing.Process(target=real_data_vis_funcs.datavis_func)\n",
    "    processes.append(p)\n",
    "    p.start()\n",
    "\n",
    "for process in processes:\n",
    "    process.join()\n",
    "\n",
    "print('That took {} seconds'.format(time.time() - starttime))"
   ]
  },
  {
   "cell_type": "markdown",
   "id": "358e048b",
   "metadata": {},
   "source": [
    "# Datagen "
   ]
  },
  {
   "cell_type": "code",
   "execution_count": null,
   "id": "2e09e9c2",
   "metadata": {},
   "outputs": [],
   "source": [
    "# set sliding window settings\n",
    "interval_size = 200\n",
    "offset = 100\n",
    "\n",
    "\n",
    "#run through each file in csv dir, \n",
    "#      calculate the total # of files, total # of windows, \n",
    "#      the name of each csv, and the windows per csv \n",
    "num_files = 0\n",
    "tot_ranges = 0\n",
    "\n",
    "csv_list = []\n",
    "ranges_per_csv = []\n",
    "   \n",
    "num_ranges = (sum(1 for line in open('../real_data/7ODM.csv')) - interval_size) // offset\n",
    "\n",
    "csv_list.append('7ODM.csv')\n",
    "ranges_per_csv.append(num_ranges)\n",
    "\n",
    "tot_ranges += num_ranges\n",
    "num_files +=  1\n",
    "    \n",
    "# create empty numpy array     \n",
    "ranges = np.empty((tot_ranges, 3), dtype=np.ndarray)\n",
    "\n",
    "# run through each file and place each range into the ranges array\n",
    "range_row = 0\n",
    "csv_idx = 0\n",
    "while range_row < tot_ranges:\n",
    "    # df, offset_dates = process_csv('csv/'+csv_list[csv_idx])    \n",
    "    i = 0\n",
    "    while i < ranges_per_csv[csv_idx]:\n",
    "        arr = np.array(df.iloc[i * offset:i * offset + interval_size].T)\n",
    "        ranges[range_row] = (arr[0], arr[1], 0)\n",
    "\n",
    "        i = i + 1  \n",
    "        range_row = range_row + 1   \n",
    "    \n",
    "    csv_idx += 1\n",
    "    \n",
    "\n",
    "data = pd.DataFrame(ranges)\n",
    "data.columns = ['dates', 'un', 'label']\n",
    "regular = data[data.label == 0]\n",
    "offsets  = data[data.label == 1]\n",
    "X = ranges[:, 1]"
   ]
  },
  {
   "cell_type": "code",
   "execution_count": 243,
   "id": "8946e233",
   "metadata": {},
   "outputs": [],
   "source": [
    "station = 'TBLP'\n",
    "df = pd.read_csv('../real_data/csv/' + 'TBLP.csv')\n",
    "df.drop(['site', 'YYMMMDD', '__MJD', 'week', 'd', 'reflon', '_e0(m)', '____n0(m)', 'u0(m)', '_ant(m)', 'sig_e(m)', 'sig_n(m)', 'sig_u(m)', '__corr_en', '__corr_eu', '__corr_nu'], axis=1, inplace=True)\n",
    "df.columns = ['date', 'un', 'ue', 'uz']\n",
    "\n",
    "un = df[['date','un']]\n",
    "ue = df[['date','ue']]\n",
    "uz = df[['date','uz']]\n",
    "un_scaled = scaler.fit_transform(df['un'].to_numpy().reshape(-1, 1))\n",
    "ue_scaled = scaler.fit_transform(df['ue'].to_numpy().reshape(-1, 1))\n",
    "uz_scaled = scaler.fit_transform(df['uz'].to_numpy().reshape(-1, 1))\n",
    "\n",
    "df['un'] = un_scaled\n",
    "df['ue'] = ue_scaled\n",
    "df['uz'] = uz_scaled"
   ]
  },
  {
   "cell_type": "code",
   "execution_count": 264,
   "id": "4e3d49e5",
   "metadata": {},
   "outputs": [
    {
     "data": {
      "text/plain": [
       "(6667, 4)"
      ]
     },
     "execution_count": 264,
     "metadata": {},
     "output_type": "execute_result"
    }
   ],
   "source": [
    "df.shape"
   ]
  },
  {
   "cell_type": "code",
   "execution_count": 274,
   "id": "903124be",
   "metadata": {},
   "outputs": [],
   "source": []
  },
  {
   "cell_type": "code",
   "execution_count": 275,
   "id": "c8316daf",
   "metadata": {},
   "outputs": [
    {
     "data": {
      "text/plain": [
       "3331"
      ]
     },
     "execution_count": 275,
     "metadata": {},
     "output_type": "execute_result"
    }
   ],
   "source": [
    "rows_to_keep[-1]"
   ]
  },
  {
   "cell_type": "code",
   "execution_count": 276,
   "id": "42fcf7f3",
   "metadata": {},
   "outputs": [
    {
     "data": {
      "text/plain": [
       "(1111, 4)"
      ]
     },
     "execution_count": 276,
     "metadata": {},
     "output_type": "execute_result"
    }
   ],
   "source": [
    "df.shape"
   ]
  },
  {
   "cell_type": "code",
   "execution_count": 1,
   "id": "2e179457",
   "metadata": {},
   "outputs": [
    {
     "ename": "NameError",
     "evalue": "name 'np' is not defined",
     "output_type": "error",
     "traceback": [
      "\u001b[0;31m---------------------------------------------------------------------------\u001b[0m",
      "\u001b[0;31mNameError\u001b[0m                                 Traceback (most recent call last)",
      "Input \u001b[0;32mIn [1]\u001b[0m, in \u001b[0;36m<cell line: 1>\u001b[0;34m()\u001b[0m\n\u001b[0;32m----> 1\u001b[0m \u001b[43mnp\u001b[49m\u001b[38;5;241m.\u001b[39mrandom\u001b[38;5;241m.\u001b[39mseed(\u001b[38;5;241m42\u001b[39m)\n\u001b[1;32m      2\u001b[0m x \u001b[38;5;241m=\u001b[39m np\u001b[38;5;241m.\u001b[39mrandom\u001b[38;5;241m.\u001b[39mrand(\u001b[38;5;241m150\u001b[39m)\n\u001b[1;32m      4\u001b[0m fig, ax \u001b[38;5;241m=\u001b[39m plt\u001b[38;5;241m.\u001b[39msubplots(figsize\u001b[38;5;241m=\u001b[39m(\u001b[38;5;241m12\u001b[39m, \u001b[38;5;241m6\u001b[39m))\n",
      "\u001b[0;31mNameError\u001b[0m: name 'np' is not defined"
     ]
    }
   ],
   "source": [
    "np.random.seed(42)\n",
    "x = np.random.rand(150)\n",
    "\n",
    "fig, ax = plt.subplots(figsize=(12, 6))\n",
    "plt.plot(df[['date', 'un']].set_index('date'), label='un');\n",
    "plt.legend()\n",
    "#ax.vlines(un_pred_dates, 0, 1, colors='red', alpha=0.3)\n",
    "ax.vlines(list(offset_dates), 0, 1, colors='brown', linewidth=4)\n",
    "ax.vlines(list(eq_dates), 0, 1, colors='green', linewidth=4)\n",
    "\n",
    "plt.figure()\n",
    "fig, ax = plt.subplots(figsize=(12, 6))\n",
    "plt.plot(df[['date', 'ue']].set_index('date'), label='ue');\n",
    "plt.legend()\n",
    "#ax.vlines(ue_pred_dates, 0, 1, colors='red', alpha=0.3)\n",
    "ax.vlines(list(offset_dates), 0, 1, colors='brown', linewidth=4)\n",
    "ax.vlines(list(eq_dates), 0, 1, colors='green', linewidth=4)\n",
    "\n",
    "plt.figure()\n",
    "fig, ax = plt.subplots(figsize=(12, 6))\n",
    "plt.plot(df[['date', 'uz']].set_index('date'), label='uz');\n",
    "plt.legend()\n",
    "#ax.vlines(uz_pred_dates, 0, 1, colors='red', alpha=0.3)\n",
    "ax.vlines(list(offset_dates), 0, 1, colors='brown', linewidth=4)\n",
    "ax.vlines(list(eq_dates), 0, 1, colors='green', linewidth=4)\n",
    "\n",
    "plt.xticks(rotation=25);\n",
    "plt.legend();"
   ]
  },
  {
   "cell_type": "code",
   "execution_count": null,
   "id": "68cbb2db",
   "metadata": {},
   "outputs": [],
   "source": [
    "\n"
   ]
  }
 ],
 "metadata": {
  "kernelspec": {
   "display_name": "Python [conda env:root] *",
   "language": "python",
   "name": "conda-root-py"
  },
  "language_info": {
   "codemirror_mode": {
    "name": "ipython",
    "version": 3
   },
   "file_extension": ".py",
   "mimetype": "text/x-python",
   "name": "python",
   "nbconvert_exporter": "python",
   "pygments_lexer": "ipython3",
   "version": "3.8.13"
  }
 },
 "nbformat": 4,
 "nbformat_minor": 5
}
